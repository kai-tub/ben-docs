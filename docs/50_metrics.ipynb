{
 "cells": [
  {
   "cell_type": "markdown",
   "id": "75e581a7",
   "metadata": {},
   "source": [
    "# Recommended Metrics\n",
    "\n",
    "Here, we would like to provide a short overview of different metrics and give our opionated recommendations.\n",
    "\n",
    "- For multi-label classification: mAP\n",
    "- For image-retrieval: NDCG\n",
    "\n",
    "Before we dive into the recommended metrics, a short reminder:\n",
    "Almost all metrics (Precision, Recall, AP, mAP) are defined _differently_ in the multi-label vs image-retrieval domain!\n",
    "\n",
    "In the multi-label classification we have:\n",
    "\n",
    "$$ \\begin{align*}\n",
    "    \\text{Precision} &= \\frac{\\text{TP}}{\\text{TP} + \\text{FP}} \\\\\n",
    "    \\text{Recall} &= \\frac{\\text{TP}}{\\text{TP} + \\text{FN}} \\\\\n",
    "\\end{align*}\n",
    "$$\n",
    "\n",
    "with:\n",
    "- TP: True positive\n",
    "- FP: False positive\n",
    "- FN: False negative\n",
    "\n",
    "For more information see the [wikipedia definition](https://en.wikipedia.org/wiki/Precision_and_recall) under the section titled `Definition (classification context)`!\n",
    "\n",
    ":::{admonition} ToDo\n",
    "We will add more information about image retrieval and the recommended metrics in the future.\n",
    ":::"
   ]
  },
  {
   "cell_type": "markdown",
   "id": "f2de8d64",
   "metadata": {},
   "source": [
    "## mAP for Evaluation of Multi-Label Classification\n",
    "\n",
    ":::{important}\n",
    "\n",
    "Thank you Tom for writing this section!\n",
    "\n",
    ":::\n",
    "\n",
    "A common way of summarizing evaluation performance in terms of Precision and Recall within a single term is the F1 score. The F1 score can be interpreted as a harmonic mean of Precision and Recall, where an F1 score of 1 is related to optimal performance and a F1 score of 0 to worst performance, respectively. The relative contribution of Precision and Recall to the F1 score are equal. If multiple classes are considered (e.g., in Multi-Class Classification tasks like [CIFAR-10/100](https://www.cs.toronto.edu/~kriz/cifar.html) or [ImageNet](https://www.image-net.org/)) the F1 score is usually either evaluated class-based or globally, considered as macro or micro averaging (further reading on macro and micro averaging can be seen in [this micro/macro tutorial on Medium](https://towardsdatascience.com/micro-macro-weighted-averages-of-f1-score-clearly-explained-b603420b292f)).\n",
    "\n",
    "Typically, when evaluating models that were trained on a Multi-Label Classification task like [BigEarthNet](https://bigearth.net/) or the multi-label version of the [COCO dataset](https://cocodataset.org/#home), these evaluation procedures are adopted. However, due to the requirement of being able to predict multiple classes at once, the softmax function that is applied in classification tasks with a single label such as Binary Classfication or Multi-Class Classification serving as a probabilty normalizer, has to be exchanged by a sigmoid function that enables multiple (positive) predictions at the same time.\n",
    "\n",
    "The drawback of the sigmoid function is that the final predictions per class become disentangled. It may happen that the optimal decision boundary for some classes fall below 0.5. A consequence is that the F1 score (as well as Precision and Recall) that rely on a fixed prediction threshold falsely indicate bad performance for that class, while the inherent predictive power for that class is good, but just at a different scale. A solution to overcome the artefact of class-wise disentangled probabilities provides the metric [(mean) Average Precision](https://scikit-learn.org/stable/modules/generated/sklearn.metrics.average_precision_score.html). It refers to the area under the [Precision-Recall curve](https://scikit-learn.org/stable/auto_examples/model_selection/plot_precision_recall.html#in-multi-label-settings) and is a more holistic approach for describing predictive power as it does not depend on a probability threshold. Likewise, as other metrics, the mAP metric can be either computed by micro or macro averaging.\n",
    "\n",
    "In many multi-label scenarios, F1 score and mAP will highly correlate. But there exist scenarios in which the F1 score looses its descriptivity for predictive power due to scaling problems (e.g., under some type of multi-label noise), whereas the mAP score maintains its descriptivity. An example can be found below in the [example section](f1_fail). Therefore, it is recommended to always report both F1 score and mAP under micro and macro averaging. \n",
    "\n",
    "SciKit-Learn provides a predefined function [average_prevision_score](https://scikit-learn.org/stable/modules/generated/sklearn.metrics.average_precision_score.html) to calculate the AP and/or mAP.\n",
    "By setting `average=None` the AP is calculated for each class and can be used in the multi-label classification scenario to better understand what class might be misbehaving.\n",
    "The mAP is then defined by the specific averaging procedure (`macro`, `micro`, `samples`).\n",
    "\n",
    ":::{important}\n",
    "\n",
    "Do not forget to mention what averaging procedure was used!\n",
    "Otherwise the reported metric has no value, as there is no way of knowing what the metric is _measuring_.\n",
    "\n",
    ":::\n",
    "\n",
    "### Summary\n",
    "It is not uncommon that the optimal decision boundary of a multi-label classification model is _not_ 0.5 for all classes.\n",
    "Metrics that rely on a fixed prediction threshold (Precision/Recall/F1) may report bad performance, even though the model can predict the class, just not at the threshold of 0.5.\n",
    "AP/mAP do not rely on any threshold and give _robust_ estimates of the predictive power of the model.\n",
    "When reporting the mAP the averaging procedure has to be included."
   ]
  },
  {
   "cell_type": "markdown",
   "id": "749ad063",
   "metadata": {},
   "source": [
    "(f1_fail)=\n",
    "### Example of F1 score failure of describing predictive power\n",
    "\n",
    "The following code shows an failure of the F1 score.\n",
    "For simplicity, a single label classification task is reviewed but the argumentation also holds for multi-label classification."
   ]
  },
  {
   "cell_type": "code",
   "execution_count": null,
   "id": "60c6b482",
   "metadata": {},
   "outputs": [],
   "source": [
    "import numpy as np\n",
    "from sklearn.metrics import average_precision_score, f1_score\n",
    "\n",
    "rng = np.random.default_rng(424)\n",
    "\n",
    "\n",
    "def _print_scores(y_true, y_pred):\n",
    "    print(\"AP:       {:.2f}\".format(average_precision_score(y_true, y_pred)))\n",
    "    print(\"F1-Score: {:.2f}\".format(f1_score(y_true, y_pred > 0.5)))\n",
    "\n",
    "\n",
    "y_true = [0, 0, 1, 0, 0, 1, 0, 1, 1, 1, 1]"
   ]
  },
  {
   "cell_type": "markdown",
   "id": "0ba472a1",
   "metadata": {},
   "source": [
    "Perfect Probability scaling:\n",
    "\n",
    "Our awesome prediction model samples from a uniform distribution [0, 1].\n",
    "In other words, the model does output over the entire range of possible probability values [0, 1].\n",
    "We call this \"perfect\" probability scaling."
   ]
  },
  {
   "cell_type": "code",
   "execution_count": null,
   "id": "ed943eec",
   "metadata": {},
   "outputs": [],
   "source": [
    "y_pred = rng.random(len(y_true))\n",
    "_print_scores(y_true=y_true, y_pred=y_pred)"
   ]
  },
  {
   "cell_type": "markdown",
   "id": "c4686129",
   "metadata": {},
   "source": [
    "Bad Probability scaling:\n",
    "\n",
    "Here, our random model is predicting values in the range [0, 0.6], which is equal to bad probability scaling.\n",
    "This will probably not happen for _all_ classes in the multi-label classification scenario, but might happen to some!\n",
    "\n",
    "We multiply the old `y_pred` value by a value < 1 to show that the F1-score will differ, while the AP will remain constant.\n",
    "The AP does not require setting/tuning a threshold!\n",
    "Tuning the threshold could also be seen as adjusting to the output probability scale of the model.\n",
    "The specific value of the F1-score will differ; it doesn't matter if the value itself becomes larger/smaller than the previously shown score in the 'perfect probability scaling' example.\n",
    "\n",
    "The important take-away is that the predictive power of the model is the same.\n",
    "Only the output probability scale has changed."
   ]
  },
  {
   "cell_type": "code",
   "execution_count": null,
   "id": "1bbd0ad5",
   "metadata": {},
   "outputs": [],
   "source": [
    "y_pred_bad = y_pred * 0.6\n",
    "_print_scores(y_true=y_true, y_pred=y_pred_bad)"
   ]
  },
  {
   "cell_type": "code",
   "execution_count": null,
   "id": "356f1074",
   "metadata": {},
   "outputs": [],
   "source": []
  }
 ],
 "metadata": {
  "interpreter": {
   "hash": "64eb03049fb0f2dfb160c500803d509ea554795c7f2b025157942206e9010cc7"
  },
  "kernelspec": {
   "display_name": "Python 3.9.10 ('bigearthnet-docs-ESkrV8a6-py3.9')",
   "language": "python",
   "name": "python3"
  },
  "language_info": {
   "codemirror_mode": {
    "name": "ipython",
    "version": 3
   },
   "file_extension": ".py",
   "mimetype": "text/x-python",
   "name": "python",
   "nbconvert_exporter": "python",
   "pygments_lexer": "ipython3",
   "version": "3.9.10"
  }
 },
 "nbformat": 4,
 "nbformat_minor": 5
}
