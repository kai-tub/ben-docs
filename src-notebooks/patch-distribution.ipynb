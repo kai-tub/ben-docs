{
 "cells": [
  {
   "cell_type": "markdown",
   "metadata": {
    "tags": []
   },
   "source": [
    "# Geographical Patch distribution\n",
    "\n",
    "The following map shows the geographical label distribution of BigEarthNet.\n",
    ":::{note}\n",
    "The geometries have been merged together to minimize page-load time and storage requirements\n",
    ":::\n",
    "<!-- # Label Distribution\n",
    "To visualize the label distribution for each label would require massive amounts of memory and is not easily displayed. \n",
    "I am able to visualize the distribution with the help of \"datashader\", but it would require an active server instance, which is too complicated to maintain for us. \n",
    "An alternative could be vegafusion in the future, once it supports GeoJSON, but until then, I won't bother to maintain the server. -->\n"
   ]
  },
  {
   "cell_type": "code",
   "execution_count": null,
   "metadata": {
    "tags": []
   },
   "outputs": [],
   "source": [
    "# remove-input\n",
    "import warnings\n",
    "\n",
    "warnings.filterwarnings(\"ignore\")\n",
    "import geopandas\n",
    "import folium\n",
    "\n",
    "# import folium.plugins\n",
    "\n",
    "\n",
    "def draw_fast_marker_cluster(gdf):\n",
    "    marker_gdf = gdf.copy()\n",
    "    marker_gdf = marker_gdf.to_crs(\"EPSG:4326\")\n",
    "    m = folium.Map(tiles=\"Stamen Terrain\")\n",
    "    data = marker_gdf.representative_point().apply(lambda point: [point.y, point.x])\n",
    "    map_data = folium.plugins.FastMarkerCluster(data)\n",
    "    m.add_child(map_data)\n",
    "    return m\n",
    "\n",
    "\n",
    "def simplify_gdf(gdf, tolerance=100):\n",
    "    geo_series = gdf.geometry.unary_union\n",
    "    g_series_simp = geo_series.simplify(tolerance)\n",
    "    return geopandas.GeoDataFrame(\n",
    "        {\"name\": [\"BigEarthNet-simplified\"]}, geometry=[g_series_simp], crs=gdf.crs\n",
    "    )\n",
    "\n",
    "\n",
    "# gdf = geopandas.read_parquet(\"../gdf/raw_ben_s2_gdf_3035.parquet\")\n",
    "# gdf_simp = simplify_gdf(gdf)\n",
    "# gdf_simp.to_parquet(\"_static/ben_simple_union.parquet\")\n",
    "\n",
    "gdf = geopandas.read_parquet(\"_static/ben_simple_union.parquet\")\n",
    "gdf.explore(tiles=\"cartodb positron\")"
   ]
  },
  {
   "cell_type": "markdown",
   "metadata": {},
   "source": []
  }
 ],
 "metadata": {
  "interpreter": {
   "hash": "9fbcd340db4d1de69ccb1b0ecf2cffb486d7d9a87b0a3b70097ab105e363a3c7"
  },
  "kernelspec": {
   "display_name": "Python 3 (ipykernel)",
   "language": "python",
   "name": "python3"
  },
  "language_info": {
   "codemirror_mode": {
    "name": "ipython",
    "version": 3
   },
   "file_extension": ".py",
   "mimetype": "text/x-python",
   "name": "python",
   "nbconvert_exporter": "python",
   "pygments_lexer": "ipython3",
   "version": "3.9.10"
  }
 },
 "nbformat": 4,
 "nbformat_minor": 4
}
