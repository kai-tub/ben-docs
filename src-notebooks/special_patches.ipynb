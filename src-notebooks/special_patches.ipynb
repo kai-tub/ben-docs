{
 "cells": [
  {
   "cell_type": "markdown",
   "metadata": {},
   "source": [
    "# Special patches\n",
    "\n",
    "A short overview of the different _types_ of patches:\n",
    "- Cloudy/shadowy\n",
    "- Snowy\n",
    "- No 19-label target"
   ]
  },
  {
   "cell_type": "code",
   "execution_count": null,
   "metadata": {},
   "outputs": [],
   "source": [
    "# A\n",
    "from bigearthnet_common.base import (\n",
    "    get_s2_patches_with_seasonal_snow,\n",
    "    get_s2_patches_with_cloud_and_shadow,\n",
    ")\n",
    "\n",
    "s2_snowy = get_s2_patches_with_seasonal_snow()\n",
    "s2_cloudy = get_s2_patches_with_cloud_and_shadow()"
   ]
  },
  {
   "cell_type": "code",
   "execution_count": null,
   "metadata": {},
   "outputs": [],
   "source": [
    "from itertools import islice\n",
    "from pathlib import Path\n",
    "\n",
    "ben_path = Path(\"~/datasets/BigEarthNet-v1.0/BigEarthNet-v1.0/\").expanduser()\n",
    "s2_cloudy_patches = [ben_path / patch for patch in islice(s2_cloudy, 20, 60)]\n",
    "s2_cloudy_patches\n",
    "\n",
    "for p in s2_cloudy_patches:\n",
    "    s2_patch = ben_encoder.tiff_dir_to_ben_s2_patch(p)\n",
    "    rgb_data = _read_rgb_from_s2_patch(s2_patch)\n",
    "    _imshow_no_axis(rgb_data / rgb_data.max())\n",
    "    plt.show()"
   ]
  }
 ],
 "metadata": {
  "language_info": {
   "name": "python"
  }
 },
 "nbformat": 4,
 "nbformat_minor": 2
}
