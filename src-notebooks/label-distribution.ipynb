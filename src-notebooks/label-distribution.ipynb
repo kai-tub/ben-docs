{
 "cells": [
  {
   "cell_type": "markdown",
   "metadata": {
    "tags": []
   },
   "source": [
    "# Label distribution\n",
    "\n",
    "The following map shows the label distribution of BigEarthNet.\n",
    "Note, that only the _deep-learning relevant_ patches are displayed.\n",
    "If `all` labels are selected, the map will simply show all the patches without any _special_ post-processing.\n",
    "If a specific label is selected, than the map will show a _spreaded_ version.\n",
    "_Spreading_ means that the regions with very few patches will be disproportionally enlarged.\n",
    "The spreading operation makes it easier to understand in what _regions_ the label is located, while still being able to give an estimate on the density.\n"
   ]
  },
  {
   "cell_type": "code",
   "execution_count": null,
   "metadata": {
    "tags": []
   },
   "outputs": [],
   "source": [
    "# remove-input\n",
    "# import geopandas\n",
    "# import folium\n",
    "# import folium.plugins\n",
    "\n",
    "# def draw_fast_marker_cluster(gdf):\n",
    "#     marker_gdf = gdf.copy()\n",
    "#     marker_gdf = marker_gdf.to_crs(\"EPSG:4326\")\n",
    "#     m = folium.Map(tiles=\"Stamen Terrain\")\n",
    "#     data = marker_gdf.representative_point().apply(lambda point: [point.y, point.x])\n",
    "#     map_data = folium.plugins.FastMarkerCluster(data)\n",
    "#     m.add_child(map_data)\n",
    "#     return m\n",
    "\n",
    "# gdf = geopandas.read_parquet(\"_static/gdf/final_ben.parquet\")\n",
    "# draw_fast_marker_cluster(gdf)"
   ]
  },
  {
   "cell_type": "markdown",
   "metadata": {
    "tags": []
   },
   "source": [
    "# Label Distribution\n",
    "To visualize the label distribution for each label would require massive amounts of memory and is not easily displayed.\n",
    "This is a WIP and will require another instance."
   ]
  },
  {
   "cell_type": "markdown",
   "metadata": {
    "tags": []
   },
   "source": []
  },
  {
   "cell_type": "markdown",
   "metadata": {
    "tags": []
   },
   "source": []
  }
 ],
 "metadata": {
  "interpreter": {
   "hash": "9fbcd340db4d1de69ccb1b0ecf2cffb486d7d9a87b0a3b70097ab105e363a3c7"
  },
  "kernelspec": {
   "display_name": "Python 3 (ipykernel)",
   "language": "python",
   "name": "python3"
  },
  "language_info": {
   "codemirror_mode": {
    "name": "ipython",
    "version": 3
   },
   "file_extension": ".py",
   "mimetype": "text/x-python",
   "name": "python",
   "nbconvert_exporter": "python",
   "pygments_lexer": "ipython3",
   "version": "3.8.12"
  }
 },
 "nbformat": 4,
 "nbformat_minor": 4
}
