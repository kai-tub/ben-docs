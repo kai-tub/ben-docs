{
 "cells": [
  {
   "cell_type": "markdown",
   "metadata": {
    "tags": []
   },
   "source": [
    "# Raw BigEarthNet Data\n",
    "\n",
    "After understanding where the patches come from and how the patches were annotated, the following section will present and discuss the files inside the archives."
   ]
  },
  {
   "cell_type": "markdown",
   "metadata": {
    "tags": []
   },
   "source": [
    "## BigEarthNet-S2"
   ]
  },
  {
   "cell_type": "markdown",
   "metadata": {
    "tags": []
   },
   "source": [
    "The general contents of the BigEarthNet-S2 archive looks as follows:"
   ]
  },
  {
   "cell_type": "code",
   "execution_count": 4,
   "metadata": {
    "tags": []
   },
   "outputs": [
    {
     "data": {
      "text/html": [
       "<pre style=\"white-space:pre;overflow-x:auto;line-height:normal;font-family:Menlo,'DejaVu Sans Mono',consolas,'Courier New',monospace\">📂 <span style=\"font-weight: bold\">BigEarthNet-S2-Example</span>\n",
       "├── 📂 <span style=\"font-weight: bold\">S2A_MSIL2A_20170617T113321_4_55</span>\n",
       "│   ├── 🗺️ <span style=\"color: #7f7f7f; text-decoration-color: #7f7f7f\">S2A_</span><span style=\"color: #7f7f7f; text-decoration-color: #7f7f7f; font-weight: bold\">MSIL2A_20170617T113321_4_55_</span><span style=\"font-weight: bold\">B01.tif</span>\n",
       "│   ├── 🗺️ <span style=\"color: #7f7f7f; text-decoration-color: #7f7f7f\">S2A_</span><span style=\"color: #7f7f7f; text-decoration-color: #7f7f7f; font-weight: bold\">MSIL2A_20170617T113321_4_55_</span><span style=\"font-weight: bold\">B02.tif</span>\n",
       "│   ├── 🗺️ <span style=\"color: #7f7f7f; text-decoration-color: #7f7f7f\">S2A_</span><span style=\"color: #7f7f7f; text-decoration-color: #7f7f7f; font-weight: bold\">MSIL2A_20170617T113321_4_55_</span><span style=\"font-weight: bold\">B03.tif</span>\n",
       "│   ├── 🗺️ <span style=\"color: #7f7f7f; text-decoration-color: #7f7f7f\">S2A_</span><span style=\"color: #7f7f7f; text-decoration-color: #7f7f7f; font-weight: bold\">MSIL2A_20170617T113321_4_55_</span><span style=\"font-weight: bold\">B04.tif</span>\n",
       "│   ├── 🗺️ <span style=\"color: #7f7f7f; text-decoration-color: #7f7f7f\">S2A_</span><span style=\"color: #7f7f7f; text-decoration-color: #7f7f7f; font-weight: bold\">MSIL2A_20170617T113321_4_55_</span><span style=\"font-weight: bold\">B05.tif</span>\n",
       "│   ├── 🗺️ <span style=\"color: #7f7f7f; text-decoration-color: #7f7f7f\">S2A_</span><span style=\"color: #7f7f7f; text-decoration-color: #7f7f7f; font-weight: bold\">MSIL2A_20170617T113321_4_55_</span><span style=\"font-weight: bold\">B06.tif</span>\n",
       "│   ├── 🗺️ <span style=\"color: #7f7f7f; text-decoration-color: #7f7f7f\">S2A_</span><span style=\"color: #7f7f7f; text-decoration-color: #7f7f7f; font-weight: bold\">MSIL2A_20170617T113321_4_55_</span><span style=\"font-weight: bold\">B07.tif</span>\n",
       "│   ├── 🗺️ <span style=\"color: #7f7f7f; text-decoration-color: #7f7f7f\">S2A_</span><span style=\"color: #7f7f7f; text-decoration-color: #7f7f7f; font-weight: bold\">MSIL2A_20170617T113321_4_55_</span><span style=\"font-weight: bold\">B08.tif</span>\n",
       "│   ├── 🗺️ <span style=\"color: #7f7f7f; text-decoration-color: #7f7f7f\">S2A_</span><span style=\"color: #7f7f7f; text-decoration-color: #7f7f7f; font-weight: bold\">MSIL2A_20170617T113321_4_55_</span><span style=\"font-weight: bold\">B8A.tif</span>\n",
       "│   ├── 🗺️ <span style=\"color: #7f7f7f; text-decoration-color: #7f7f7f\">S2A_</span><span style=\"color: #7f7f7f; text-decoration-color: #7f7f7f; font-weight: bold\">MSIL2A_20170617T113321_4_55_</span><span style=\"font-weight: bold\">B09.tif</span>\n",
       "│   ├── 🗺️ <span style=\"color: #7f7f7f; text-decoration-color: #7f7f7f\">S2A_</span><span style=\"color: #7f7f7f; text-decoration-color: #7f7f7f; font-weight: bold\">MSIL2A_20170617T113321_4_55_</span><span style=\"font-weight: bold\">B11.tif</span>\n",
       "│   ├── 🗺️ <span style=\"color: #7f7f7f; text-decoration-color: #7f7f7f\">S2A_</span><span style=\"color: #7f7f7f; text-decoration-color: #7f7f7f; font-weight: bold\">MSIL2A_20170617T113321_4_55_</span><span style=\"font-weight: bold\">B12.tif</span>\n",
       "│   └── 📄 <span style=\"color: #7f7f7f; text-decoration-color: #7f7f7f\">S2A_MSIL2A_20170617T113321_4_55_</span><span style=\"font-weight: bold\">labels_metadata.json</span>\n",
       "├── 📂 <span style=\"font-weight: bold\">S2A_MSIL2A_20170617T113321_36_85</span>\n",
       "│   ├── 🗺️ <span style=\"color: #7f7f7f; text-decoration-color: #7f7f7f\">S2A_</span><span style=\"color: #7f7f7f; text-decoration-color: #7f7f7f; font-weight: bold\">MSIL2A_20170617T113321_36_85_</span><span style=\"font-weight: bold\">B01.tif</span>\n",
       "│   ├── 🗺️ <span style=\"color: #7f7f7f; text-decoration-color: #7f7f7f\">S2A_</span><span style=\"color: #7f7f7f; text-decoration-color: #7f7f7f; font-weight: bold\">MSIL2A_20170617T113321_36_85_</span><span style=\"font-weight: bold\">B02.tif</span>\n",
       "│   ├── 🗺️ <span style=\"color: #7f7f7f; text-decoration-color: #7f7f7f\">S2A_</span><span style=\"color: #7f7f7f; text-decoration-color: #7f7f7f; font-weight: bold\">MSIL2A_20170617T113321_36_85_</span><span style=\"font-weight: bold\">B03.tif</span>\n",
       "│   ├── 🗺️ <span style=\"color: #7f7f7f; text-decoration-color: #7f7f7f\">S2A_</span><span style=\"color: #7f7f7f; text-decoration-color: #7f7f7f; font-weight: bold\">MSIL2A_20170617T113321_36_85_</span><span style=\"font-weight: bold\">B04.tif</span>\n",
       "│   ├── 🗺️ <span style=\"color: #7f7f7f; text-decoration-color: #7f7f7f\">S2A_</span><span style=\"color: #7f7f7f; text-decoration-color: #7f7f7f; font-weight: bold\">MSIL2A_20170617T113321_36_85_</span><span style=\"font-weight: bold\">B05.tif</span>\n",
       "│   ├── 🗺️ <span style=\"color: #7f7f7f; text-decoration-color: #7f7f7f\">S2A_</span><span style=\"color: #7f7f7f; text-decoration-color: #7f7f7f; font-weight: bold\">MSIL2A_20170617T113321_36_85_</span><span style=\"font-weight: bold\">B06.tif</span>\n",
       "│   ├── 🗺️ <span style=\"color: #7f7f7f; text-decoration-color: #7f7f7f\">S2A_</span><span style=\"color: #7f7f7f; text-decoration-color: #7f7f7f; font-weight: bold\">MSIL2A_20170617T113321_36_85_</span><span style=\"font-weight: bold\">B07.tif</span>\n",
       "│   ├── 🗺️ <span style=\"color: #7f7f7f; text-decoration-color: #7f7f7f\">S2A_</span><span style=\"color: #7f7f7f; text-decoration-color: #7f7f7f; font-weight: bold\">MSIL2A_20170617T113321_36_85_</span><span style=\"font-weight: bold\">B08.tif</span>\n",
       "│   ├── 🗺️ <span style=\"color: #7f7f7f; text-decoration-color: #7f7f7f\">S2A_</span><span style=\"color: #7f7f7f; text-decoration-color: #7f7f7f; font-weight: bold\">MSIL2A_20170617T113321_36_85_</span><span style=\"font-weight: bold\">B8A.tif</span>\n",
       "│   ├── 🗺️ <span style=\"color: #7f7f7f; text-decoration-color: #7f7f7f\">S2A_</span><span style=\"color: #7f7f7f; text-decoration-color: #7f7f7f; font-weight: bold\">MSIL2A_20170617T113321_36_85_</span><span style=\"font-weight: bold\">B09.tif</span>\n",
       "│   ├── 🗺️ <span style=\"color: #7f7f7f; text-decoration-color: #7f7f7f\">S2A_</span><span style=\"color: #7f7f7f; text-decoration-color: #7f7f7f; font-weight: bold\">MSIL2A_20170617T113321_36_85_</span><span style=\"font-weight: bold\">B11.tif</span>\n",
       "│   ├── 🗺️ <span style=\"color: #7f7f7f; text-decoration-color: #7f7f7f\">S2A_</span><span style=\"color: #7f7f7f; text-decoration-color: #7f7f7f; font-weight: bold\">MSIL2A_20170617T113321_36_85_</span><span style=\"font-weight: bold\">B12.tif</span>\n",
       "│   └── 📄 <span style=\"color: #7f7f7f; text-decoration-color: #7f7f7f\">S2A_MSIL2A_20170617T113321_36_85_</span><span style=\"font-weight: bold\">labels_metadata.json</span>\n",
       "└── 📂 <span style=\"font-weight: bold\">S2A_MSIL2A_20171221T112501_56_35</span>\n",
       "    ├── 🗺️ <span style=\"color: #7f7f7f; text-decoration-color: #7f7f7f\">S2A_</span><span style=\"color: #7f7f7f; text-decoration-color: #7f7f7f; font-weight: bold\">MSIL2A_20171221T112501_56_35_</span><span style=\"font-weight: bold\">B01.tif</span>\n",
       "    ├── 🗺️ <span style=\"color: #7f7f7f; text-decoration-color: #7f7f7f\">S2A_</span><span style=\"color: #7f7f7f; text-decoration-color: #7f7f7f; font-weight: bold\">MSIL2A_20171221T112501_56_35_</span><span style=\"font-weight: bold\">B02.tif</span>\n",
       "    ├── 🗺️ <span style=\"color: #7f7f7f; text-decoration-color: #7f7f7f\">S2A_</span><span style=\"color: #7f7f7f; text-decoration-color: #7f7f7f; font-weight: bold\">MSIL2A_20171221T112501_56_35_</span><span style=\"font-weight: bold\">B03.tif</span>\n",
       "    ├── 🗺️ <span style=\"color: #7f7f7f; text-decoration-color: #7f7f7f\">S2A_</span><span style=\"color: #7f7f7f; text-decoration-color: #7f7f7f; font-weight: bold\">MSIL2A_20171221T112501_56_35_</span><span style=\"font-weight: bold\">B04.tif</span>\n",
       "    ├── 🗺️ <span style=\"color: #7f7f7f; text-decoration-color: #7f7f7f\">S2A_</span><span style=\"color: #7f7f7f; text-decoration-color: #7f7f7f; font-weight: bold\">MSIL2A_20171221T112501_56_35_</span><span style=\"font-weight: bold\">B05.tif</span>\n",
       "    ├── 🗺️ <span style=\"color: #7f7f7f; text-decoration-color: #7f7f7f\">S2A_</span><span style=\"color: #7f7f7f; text-decoration-color: #7f7f7f; font-weight: bold\">MSIL2A_20171221T112501_56_35_</span><span style=\"font-weight: bold\">B06.tif</span>\n",
       "    ├── 🗺️ <span style=\"color: #7f7f7f; text-decoration-color: #7f7f7f\">S2A_</span><span style=\"color: #7f7f7f; text-decoration-color: #7f7f7f; font-weight: bold\">MSIL2A_20171221T112501_56_35_</span><span style=\"font-weight: bold\">B07.tif</span>\n",
       "    ├── 🗺️ <span style=\"color: #7f7f7f; text-decoration-color: #7f7f7f\">S2A_</span><span style=\"color: #7f7f7f; text-decoration-color: #7f7f7f; font-weight: bold\">MSIL2A_20171221T112501_56_35_</span><span style=\"font-weight: bold\">B08.tif</span>\n",
       "    ├── 🗺️ <span style=\"color: #7f7f7f; text-decoration-color: #7f7f7f\">S2A_</span><span style=\"color: #7f7f7f; text-decoration-color: #7f7f7f; font-weight: bold\">MSIL2A_20171221T112501_56_35_</span><span style=\"font-weight: bold\">B8A.tif</span>\n",
       "    ├── 🗺️ <span style=\"color: #7f7f7f; text-decoration-color: #7f7f7f\">S2A_</span><span style=\"color: #7f7f7f; text-decoration-color: #7f7f7f; font-weight: bold\">MSIL2A_20171221T112501_56_35_</span><span style=\"font-weight: bold\">B09.tif</span>\n",
       "    ├── 🗺️ <span style=\"color: #7f7f7f; text-decoration-color: #7f7f7f\">S2A_</span><span style=\"color: #7f7f7f; text-decoration-color: #7f7f7f; font-weight: bold\">MSIL2A_20171221T112501_56_35_</span><span style=\"font-weight: bold\">B11.tif</span>\n",
       "    ├── 🗺️ <span style=\"color: #7f7f7f; text-decoration-color: #7f7f7f\">S2A_</span><span style=\"color: #7f7f7f; text-decoration-color: #7f7f7f; font-weight: bold\">MSIL2A_20171221T112501_56_35_</span><span style=\"font-weight: bold\">B12.tif</span>\n",
       "    └── 📄 <span style=\"color: #7f7f7f; text-decoration-color: #7f7f7f\">S2A_MSIL2A_20171221T112501_56_35_</span><span style=\"font-weight: bold\">labels_metadata.json</span>\n",
       "</pre>\n"
      ],
      "text/plain": [
       "📂 \u001b[1mBigEarthNet-S2-Example\u001b[0m\n",
       "├── 📂 \u001b[1mS2A_MSIL2A_20170617T113321_4_55\u001b[0m\n",
       "│   ├── 🗺️ \u001b[2mS2A_\u001b[0m\u001b[1;2mMSIL2A_20170617T113321_4_55_\u001b[0m\u001b[1mB01.tif\u001b[0m\n",
       "│   ├── 🗺️ \u001b[2mS2A_\u001b[0m\u001b[1;2mMSIL2A_20170617T113321_4_55_\u001b[0m\u001b[1mB02.tif\u001b[0m\n",
       "│   ├── 🗺️ \u001b[2mS2A_\u001b[0m\u001b[1;2mMSIL2A_20170617T113321_4_55_\u001b[0m\u001b[1mB03.tif\u001b[0m\n",
       "│   ├── 🗺️ \u001b[2mS2A_\u001b[0m\u001b[1;2mMSIL2A_20170617T113321_4_55_\u001b[0m\u001b[1mB04.tif\u001b[0m\n",
       "│   ├── 🗺️ \u001b[2mS2A_\u001b[0m\u001b[1;2mMSIL2A_20170617T113321_4_55_\u001b[0m\u001b[1mB05.tif\u001b[0m\n",
       "│   ├── 🗺️ \u001b[2mS2A_\u001b[0m\u001b[1;2mMSIL2A_20170617T113321_4_55_\u001b[0m\u001b[1mB06.tif\u001b[0m\n",
       "│   ├── 🗺️ \u001b[2mS2A_\u001b[0m\u001b[1;2mMSIL2A_20170617T113321_4_55_\u001b[0m\u001b[1mB07.tif\u001b[0m\n",
       "│   ├── 🗺️ \u001b[2mS2A_\u001b[0m\u001b[1;2mMSIL2A_20170617T113321_4_55_\u001b[0m\u001b[1mB08.tif\u001b[0m\n",
       "│   ├── 🗺️ \u001b[2mS2A_\u001b[0m\u001b[1;2mMSIL2A_20170617T113321_4_55_\u001b[0m\u001b[1mB8A.tif\u001b[0m\n",
       "│   ├── 🗺️ \u001b[2mS2A_\u001b[0m\u001b[1;2mMSIL2A_20170617T113321_4_55_\u001b[0m\u001b[1mB09.tif\u001b[0m\n",
       "│   ├── 🗺️ \u001b[2mS2A_\u001b[0m\u001b[1;2mMSIL2A_20170617T113321_4_55_\u001b[0m\u001b[1mB11.tif\u001b[0m\n",
       "│   ├── 🗺️ \u001b[2mS2A_\u001b[0m\u001b[1;2mMSIL2A_20170617T113321_4_55_\u001b[0m\u001b[1mB12.tif\u001b[0m\n",
       "│   └── 📄 \u001b[2mS2A_MSIL2A_20170617T113321_4_55_\u001b[0m\u001b[1mlabels_metadata.json\u001b[0m\n",
       "├── 📂 \u001b[1mS2A_MSIL2A_20170617T113321_36_85\u001b[0m\n",
       "│   ├── 🗺️ \u001b[2mS2A_\u001b[0m\u001b[1;2mMSIL2A_20170617T113321_36_85_\u001b[0m\u001b[1mB01.tif\u001b[0m\n",
       "│   ├── 🗺️ \u001b[2mS2A_\u001b[0m\u001b[1;2mMSIL2A_20170617T113321_36_85_\u001b[0m\u001b[1mB02.tif\u001b[0m\n",
       "│   ├── 🗺️ \u001b[2mS2A_\u001b[0m\u001b[1;2mMSIL2A_20170617T113321_36_85_\u001b[0m\u001b[1mB03.tif\u001b[0m\n",
       "│   ├── 🗺️ \u001b[2mS2A_\u001b[0m\u001b[1;2mMSIL2A_20170617T113321_36_85_\u001b[0m\u001b[1mB04.tif\u001b[0m\n",
       "│   ├── 🗺️ \u001b[2mS2A_\u001b[0m\u001b[1;2mMSIL2A_20170617T113321_36_85_\u001b[0m\u001b[1mB05.tif\u001b[0m\n",
       "│   ├── 🗺️ \u001b[2mS2A_\u001b[0m\u001b[1;2mMSIL2A_20170617T113321_36_85_\u001b[0m\u001b[1mB06.tif\u001b[0m\n",
       "│   ├── 🗺️ \u001b[2mS2A_\u001b[0m\u001b[1;2mMSIL2A_20170617T113321_36_85_\u001b[0m\u001b[1mB07.tif\u001b[0m\n",
       "│   ├── 🗺️ \u001b[2mS2A_\u001b[0m\u001b[1;2mMSIL2A_20170617T113321_36_85_\u001b[0m\u001b[1mB08.tif\u001b[0m\n",
       "│   ├── 🗺️ \u001b[2mS2A_\u001b[0m\u001b[1;2mMSIL2A_20170617T113321_36_85_\u001b[0m\u001b[1mB8A.tif\u001b[0m\n",
       "│   ├── 🗺️ \u001b[2mS2A_\u001b[0m\u001b[1;2mMSIL2A_20170617T113321_36_85_\u001b[0m\u001b[1mB09.tif\u001b[0m\n",
       "│   ├── 🗺️ \u001b[2mS2A_\u001b[0m\u001b[1;2mMSIL2A_20170617T113321_36_85_\u001b[0m\u001b[1mB11.tif\u001b[0m\n",
       "│   ├── 🗺️ \u001b[2mS2A_\u001b[0m\u001b[1;2mMSIL2A_20170617T113321_36_85_\u001b[0m\u001b[1mB12.tif\u001b[0m\n",
       "│   └── 📄 \u001b[2mS2A_MSIL2A_20170617T113321_36_85_\u001b[0m\u001b[1mlabels_metadata.json\u001b[0m\n",
       "└── 📂 \u001b[1mS2A_MSIL2A_20171221T112501_56_35\u001b[0m\n",
       "    ├── 🗺️ \u001b[2mS2A_\u001b[0m\u001b[1;2mMSIL2A_20171221T112501_56_35_\u001b[0m\u001b[1mB01.tif\u001b[0m\n",
       "    ├── 🗺️ \u001b[2mS2A_\u001b[0m\u001b[1;2mMSIL2A_20171221T112501_56_35_\u001b[0m\u001b[1mB02.tif\u001b[0m\n",
       "    ├── 🗺️ \u001b[2mS2A_\u001b[0m\u001b[1;2mMSIL2A_20171221T112501_56_35_\u001b[0m\u001b[1mB03.tif\u001b[0m\n",
       "    ├── 🗺️ \u001b[2mS2A_\u001b[0m\u001b[1;2mMSIL2A_20171221T112501_56_35_\u001b[0m\u001b[1mB04.tif\u001b[0m\n",
       "    ├── 🗺️ \u001b[2mS2A_\u001b[0m\u001b[1;2mMSIL2A_20171221T112501_56_35_\u001b[0m\u001b[1mB05.tif\u001b[0m\n",
       "    ├── 🗺️ \u001b[2mS2A_\u001b[0m\u001b[1;2mMSIL2A_20171221T112501_56_35_\u001b[0m\u001b[1mB06.tif\u001b[0m\n",
       "    ├── 🗺️ \u001b[2mS2A_\u001b[0m\u001b[1;2mMSIL2A_20171221T112501_56_35_\u001b[0m\u001b[1mB07.tif\u001b[0m\n",
       "    ├── 🗺️ \u001b[2mS2A_\u001b[0m\u001b[1;2mMSIL2A_20171221T112501_56_35_\u001b[0m\u001b[1mB08.tif\u001b[0m\n",
       "    ├── 🗺️ \u001b[2mS2A_\u001b[0m\u001b[1;2mMSIL2A_20171221T112501_56_35_\u001b[0m\u001b[1mB8A.tif\u001b[0m\n",
       "    ├── 🗺️ \u001b[2mS2A_\u001b[0m\u001b[1;2mMSIL2A_20171221T112501_56_35_\u001b[0m\u001b[1mB09.tif\u001b[0m\n",
       "    ├── 🗺️ \u001b[2mS2A_\u001b[0m\u001b[1;2mMSIL2A_20171221T112501_56_35_\u001b[0m\u001b[1mB11.tif\u001b[0m\n",
       "    ├── 🗺️ \u001b[2mS2A_\u001b[0m\u001b[1;2mMSIL2A_20171221T112501_56_35_\u001b[0m\u001b[1mB12.tif\u001b[0m\n",
       "    └── 📄 \u001b[2mS2A_MSIL2A_20171221T112501_56_35_\u001b[0m\u001b[1mlabels_metadata.json\u001b[0m\n"
      ]
     },
     "execution_count": 4,
     "metadata": {},
     "output_type": "execute_result"
    }
   ],
   "source": [
    "# remove-input\n",
    "\n",
    "from bigearthnet_docs import get_s1_example_folder_path, get_s2_example_folder_path\n",
    "from rich import print\n",
    "from rich.tree import Tree\n",
    "from rich.markup import escape\n",
    "from rich.text import Text\n",
    "from pathlib import Path\n",
    "from pydantic import validate_arguments, DirectoryPath\n",
    "import natsort\n",
    "\n",
    "ben_s2_path = get_s2_example_folder_path()\n",
    "\n",
    "def _first_dir_natsort_key(path: Path) -> str:\n",
    "    \"\"\"Directories should come first\"\"\"\n",
    "    prefix = 0 if path.is_dir() else 1\n",
    "    return f\"{prefix}{path}\"\n",
    "\n",
    "def _walk_ben_directory(directory: Path, tree: Tree):\n",
    "    \"\"\"\n",
    "    Recursively build a BigEarthNet directory\n",
    "    \"\"\"\n",
    "    # Sort dirs first\n",
    "    paths = sorted(\n",
    "        Path(directory).iterdir(), key=natsort.natsort_keygen(_first_dir_natsort_key)\n",
    "    )\n",
    "    for path in paths:\n",
    "        if path.name.startswith(\".\"):\n",
    "            continue\n",
    "        if path.is_dir():\n",
    "            branch = tree.add(\n",
    "                # f\":open_file_folder: [link file://{path}]{escape(path.name)}\"\n",
    "                f\":open_file_folder: [bold]{escape(path.name)}\"\n",
    "            )\n",
    "            _walk_ben_directory(path, branch)\n",
    "        else:\n",
    "            text_filename = Text(path.name)\n",
    "            text_filename.highlight_regex(r\".*_\\d\\d?_\", \"dim\")\n",
    "            text_filename.highlight_words([\"labels_metadata.json\"], \"bold\")\n",
    "            text_filename.highlight_regex(r\"(?<=_).*.tif\", \"bold\")\n",
    "            # text_filename.stylize(f\"link file://{path}\")\n",
    "            icon = \"🗺️ \" if path.suffix == \".tif\" else \"📄 \"\n",
    "            tree.add(Text(icon) + text_filename)\n",
    "\n",
    "\n",
    "@validate_arguments\n",
    "def walk_ben_directory(directory: DirectoryPath) -> Tree:\n",
    "    directory = directory.resolve()\n",
    "    tree = Tree(\n",
    "        # f\":open_file_folder: [link file://{directory}]{directory.name}\"\n",
    "        f\":open_file_folder: [bold]{directory.name}\"\n",
    "    )\n",
    "    _walk_ben_directory(directory, tree)\n",
    "    return tree\n",
    "\n",
    "walk_ben_directory(ben_s2_path)"
   ]
  },
  {
   "cell_type": "markdown",
   "metadata": {
    "tags": []
   },
   "source": [
    "With the following conventions:\n",
    "- Each folder coressponds to a single patch\n",
    "- The `patch_name` is encoded as the name of the folder\n",
    "- Each patch folder contains a [GeoTIFF](https://en.wikipedia.org/wiki/GeoTIFF) file for each of the 12 bands.\n",
    "  - The name of the GeoTIFF file is encoded as `<patch_name>_<band>.tif`.\n",
    "- The [JSON](https://en.wikipedia.org/wiki/JSON) file, named `<patch_name>_labels_metadata.json`, contains the metadata\n",
    "\n",
    "The prettified contents of a metadata file is:"
   ]
  },
  {
   "cell_type": "code",
   "execution_count": 2,
   "metadata": {
    "tags": []
   },
   "outputs": [
    {
     "data": {
      "text/html": [
       "<pre style=\"white-space:pre;overflow-x:auto;line-height:normal;font-family:Menlo,'DejaVu Sans Mono',consolas,'Courier New',monospace\"><span style=\"font-weight: bold\">{</span>\n",
       "  <span style=\"color: #000080; text-decoration-color: #000080; font-weight: bold\">\"labels\"</span>: <span style=\"font-weight: bold\">[</span>\n",
       "    <span style=\"color: #008000; text-decoration-color: #008000\">\"Complex cultivation patterns\"</span>,\n",
       "    <span style=\"color: #008000; text-decoration-color: #008000\">\"Land principally occupied by agriculture, with significant areas of natural vegetation\"</span>,\n",
       "    <span style=\"color: #008000; text-decoration-color: #008000\">\"Broad-leaved forest\"</span>,\n",
       "    <span style=\"color: #008000; text-decoration-color: #008000\">\"Transitional woodland/shrub\"</span>\n",
       "  <span style=\"font-weight: bold\">]</span>,\n",
       "  <span style=\"color: #000080; text-decoration-color: #000080; font-weight: bold\">\"coordinates\"</span>: <span style=\"font-weight: bold\">{</span>\n",
       "    <span style=\"color: #000080; text-decoration-color: #000080; font-weight: bold\">\"ulx\"</span>: <span style=\"color: #008080; text-decoration-color: #008080; font-weight: bold\">567180</span>,\n",
       "    <span style=\"color: #000080; text-decoration-color: #000080; font-weight: bold\">\"uly\"</span>: <span style=\"color: #008080; text-decoration-color: #008080; font-weight: bold\">4358040</span>,\n",
       "    <span style=\"color: #000080; text-decoration-color: #000080; font-weight: bold\">\"lrx\"</span>: <span style=\"color: #008080; text-decoration-color: #008080; font-weight: bold\">568380</span>,\n",
       "    <span style=\"color: #000080; text-decoration-color: #000080; font-weight: bold\">\"lry\"</span>: <span style=\"color: #008080; text-decoration-color: #008080; font-weight: bold\">4356840</span>\n",
       "  <span style=\"font-weight: bold\">}</span>,\n",
       "  <span style=\"color: #000080; text-decoration-color: #000080; font-weight: bold\">\"projection\"</span>: <span style=\"color: #008000; text-decoration-color: #008000\">\"PROJCS[\\\"WGS 84 / UTM zone 29N\\\",GEOGCS[\\\"WGS 84\\\",DATUM[\\\"WGS_1984\\\",SPHEROID[\\\"W...\"</span>,\n",
       "  <span style=\"color: #000080; text-decoration-color: #000080; font-weight: bold\">\"tile_source\"</span>: <span style=\"color: #008000; text-decoration-color: #008000\">\"S2A_MSIL1C_20171221T112501_N0206_R037_T29SND_20171221T114356.SAFE\"</span>,\n",
       "  <span style=\"color: #000080; text-decoration-color: #000080; font-weight: bold\">\"acquisition_date\"</span>: <span style=\"color: #008000; text-decoration-color: #008000\">\"2017-12-21 11:25:01\"</span>\n",
       "<span style=\"font-weight: bold\">}</span>\n",
       "</pre>\n"
      ],
      "text/plain": [
       "\u001b[1m{\u001b[0m\n",
       "  \u001b[1;34m\"labels\"\u001b[0m: \u001b[1m[\u001b[0m\n",
       "    \u001b[32m\"Complex cultivation patterns\"\u001b[0m,\n",
       "    \u001b[32m\"Land principally occupied by agriculture, with significant areas of natural vegetation\"\u001b[0m,\n",
       "    \u001b[32m\"Broad-leaved forest\"\u001b[0m,\n",
       "    \u001b[32m\"Transitional woodland/shrub\"\u001b[0m\n",
       "  \u001b[1m]\u001b[0m,\n",
       "  \u001b[1;34m\"coordinates\"\u001b[0m: \u001b[1m{\u001b[0m\n",
       "    \u001b[1;34m\"ulx\"\u001b[0m: \u001b[1;36m567180\u001b[0m,\n",
       "    \u001b[1;34m\"uly\"\u001b[0m: \u001b[1;36m4358040\u001b[0m,\n",
       "    \u001b[1;34m\"lrx\"\u001b[0m: \u001b[1;36m568380\u001b[0m,\n",
       "    \u001b[1;34m\"lry\"\u001b[0m: \u001b[1;36m4356840\u001b[0m\n",
       "  \u001b[1m}\u001b[0m,\n",
       "  \u001b[1;34m\"projection\"\u001b[0m: \u001b[32m\"PROJCS[\\\"WGS 84 / UTM zone 29N\\\",GEOGCS[\\\"WGS 84\\\",DATUM[\\\"WGS_1984\\\",SPHEROID[\\\"W...\"\u001b[0m,\n",
       "  \u001b[1;34m\"tile_source\"\u001b[0m: \u001b[32m\"S2A_MSIL1C_20171221T112501_N0206_R037_T29SND_20171221T114356.SAFE\"\u001b[0m,\n",
       "  \u001b[1;34m\"acquisition_date\"\u001b[0m: \u001b[32m\"2017-12-21 11:25:01\"\u001b[0m\n",
       "\u001b[1m}\u001b[0m\n"
      ]
     },
     "metadata": {},
     "output_type": "display_data"
    }
   ],
   "source": [
    "# remove-input\n",
    "\n",
    "from rich import print_json\n",
    "from copy import copy\n",
    "import json\n",
    "\n",
    "ben_s2_json_file_paths = list(Path(ben_s2_path).rglob(\"*.json\"))\n",
    "ben_s2_json_fp = ben_s2_json_file_paths[0]\n",
    "text = ben_s2_json_fp.read_text()\n",
    "j = json.loads(text)\n",
    "simple_j = copy(j)\n",
    "simple_j[\"projection\"] = simple_j[\"projection\"][:75] + \"...\"\n",
    "\n",
    "print_json(data=simple_j)"
   ]
  },
  {
   "cell_type": "markdown",
   "metadata": {
    "tags": []
   },
   "source": [
    "- `labels`: Lists the older {ref}`CLC Level-3 nomenclature <clc-level-3>` labels of the patch\n",
    "- `tile_source`: Shows the source tile that was further processed with [sen2cor](https://step.esa.int/main/snap-supported-plugins/sen2cor/) to generate the atmospherically corrected [L2A](https://sentinels.copernicus.eu/web/sentinel/technical-guides/sentinel-2-msi/level-2a/product-formatting) product tile\n",
    "- `acquisition_date`: Encodes the acquisition date of the tile in the `YYYY-MM-DD hh:mm:ss` format\n",
    "- `coordinates`: Encodes the upper left x/y (`ulx`/`uly`) and lower right x/y (`lrx`/`lry`) coordinates of the patch\n",
    "- `projection`: Relates the values of the `coordinates` to the given coordinate reference systems (CRS)"
   ]
  },
  {
   "cell_type": "markdown",
   "metadata": {
    "tags": []
   },
   "source": [
    "The unshorted (prettified) `projection` entry looks as follows:"
   ]
  },
  {
   "cell_type": "code",
   "execution_count": 3,
   "metadata": {
    "tags": []
   },
   "outputs": [
    {
     "data": {
      "text/html": [
       "<pre style=\"white-space:pre;overflow-x:auto;line-height:normal;font-family:Menlo,'DejaVu Sans Mono',consolas,'Courier New',monospace\">PROJCRS<span style=\"font-weight: bold\">[</span><span style=\"color: #008000; text-decoration-color: #008000\">\"WGS 84 / UTM zone 29N\"</span>,\n",
       "    BASEGEOGCRS<span style=\"font-weight: bold\">[</span><span style=\"color: #008000; text-decoration-color: #008000\">\"WGS 84\"</span>,\n",
       "        DATUM<span style=\"font-weight: bold\">[</span><span style=\"color: #008000; text-decoration-color: #008000\">\"World Geodetic System 1984\"</span>,\n",
       "            ELLIPSOID<span style=\"font-weight: bold\">[</span><span style=\"color: #008000; text-decoration-color: #008000\">\"WGS 84\"</span>,<span style=\"color: #008080; text-decoration-color: #008080; font-weight: bold\">6378137</span>,<span style=\"color: #008080; text-decoration-color: #008080; font-weight: bold\">298.257223563</span>,\n",
       "                LENGTHUNIT<span style=\"font-weight: bold\">[</span><span style=\"color: #008000; text-decoration-color: #008000\">\"metre\"</span>,<span style=\"color: #008080; text-decoration-color: #008080; font-weight: bold\">1</span><span style=\"font-weight: bold\">]]]</span>,\n",
       "        PRIMEM<span style=\"font-weight: bold\">[</span><span style=\"color: #008000; text-decoration-color: #008000\">\"Greenwich\"</span>,<span style=\"color: #008080; text-decoration-color: #008080; font-weight: bold\">0</span>,\n",
       "            ANGLEUNIT<span style=\"font-weight: bold\">[</span><span style=\"color: #008000; text-decoration-color: #008000\">\"degree\"</span>,<span style=\"color: #008080; text-decoration-color: #008080; font-weight: bold\">0.0174532925199433</span><span style=\"font-weight: bold\">]]</span>,\n",
       "        ID<span style=\"font-weight: bold\">[</span><span style=\"color: #008000; text-decoration-color: #008000\">\"EPSG\"</span>,<span style=\"color: #008080; text-decoration-color: #008080; font-weight: bold\">4326</span><span style=\"font-weight: bold\">]]</span>,\n",
       "    CONVERSION<span style=\"font-weight: bold\">[</span><span style=\"color: #008000; text-decoration-color: #008000\">\"UTM zone 29N\"</span>,\n",
       "        METHOD<span style=\"font-weight: bold\">[</span><span style=\"color: #008000; text-decoration-color: #008000\">\"Transverse Mercator\"</span>,\n",
       "            ID<span style=\"font-weight: bold\">[</span><span style=\"color: #008000; text-decoration-color: #008000\">\"EPSG\"</span>,<span style=\"color: #008080; text-decoration-color: #008080; font-weight: bold\">9807</span><span style=\"font-weight: bold\">]]</span>,\n",
       "        PARAMETER<span style=\"font-weight: bold\">[</span><span style=\"color: #008000; text-decoration-color: #008000\">\"Latitude of natural origin\"</span>,<span style=\"color: #008080; text-decoration-color: #008080; font-weight: bold\">0</span>,\n",
       "            ANGLEUNIT<span style=\"font-weight: bold\">[</span><span style=\"color: #008000; text-decoration-color: #008000\">\"degree\"</span>,<span style=\"color: #008080; text-decoration-color: #008080; font-weight: bold\">0.0174532925199433</span><span style=\"font-weight: bold\">]</span>,\n",
       "            ID<span style=\"font-weight: bold\">[</span><span style=\"color: #008000; text-decoration-color: #008000\">\"EPSG\"</span>,<span style=\"color: #008080; text-decoration-color: #008080; font-weight: bold\">8801</span><span style=\"font-weight: bold\">]]</span>,\n",
       "        PARAMETER<span style=\"font-weight: bold\">[</span><span style=\"color: #008000; text-decoration-color: #008000\">\"Longitude of natural origin\"</span>,<span style=\"color: #008080; text-decoration-color: #008080; font-weight: bold\">-9</span>,\n",
       "            ANGLEUNIT<span style=\"font-weight: bold\">[</span><span style=\"color: #008000; text-decoration-color: #008000\">\"degree\"</span>,<span style=\"color: #008080; text-decoration-color: #008080; font-weight: bold\">0.0174532925199433</span><span style=\"font-weight: bold\">]</span>,\n",
       "            ID<span style=\"font-weight: bold\">[</span><span style=\"color: #008000; text-decoration-color: #008000\">\"EPSG\"</span>,<span style=\"color: #008080; text-decoration-color: #008080; font-weight: bold\">8802</span><span style=\"font-weight: bold\">]]</span>,\n",
       "        PARAMETER<span style=\"font-weight: bold\">[</span><span style=\"color: #008000; text-decoration-color: #008000\">\"Scale factor at natural origin\"</span>,<span style=\"color: #008080; text-decoration-color: #008080; font-weight: bold\">0.9996</span>,\n",
       "            SCALEUNIT<span style=\"font-weight: bold\">[</span><span style=\"color: #008000; text-decoration-color: #008000\">\"unity\"</span>,<span style=\"color: #008080; text-decoration-color: #008080; font-weight: bold\">1</span><span style=\"font-weight: bold\">]</span>,\n",
       "            ID<span style=\"font-weight: bold\">[</span><span style=\"color: #008000; text-decoration-color: #008000\">\"EPSG\"</span>,<span style=\"color: #008080; text-decoration-color: #008080; font-weight: bold\">8805</span><span style=\"font-weight: bold\">]]</span>,\n",
       "        PARAMETER<span style=\"font-weight: bold\">[</span><span style=\"color: #008000; text-decoration-color: #008000\">\"False easting\"</span>,<span style=\"color: #008080; text-decoration-color: #008080; font-weight: bold\">500000</span>,\n",
       "            LENGTHUNIT<span style=\"font-weight: bold\">[</span><span style=\"color: #008000; text-decoration-color: #008000\">\"metre\"</span>,<span style=\"color: #008080; text-decoration-color: #008080; font-weight: bold\">1</span><span style=\"font-weight: bold\">]</span>,\n",
       "            ID<span style=\"font-weight: bold\">[</span><span style=\"color: #008000; text-decoration-color: #008000\">\"EPSG\"</span>,<span style=\"color: #008080; text-decoration-color: #008080; font-weight: bold\">8806</span><span style=\"font-weight: bold\">]]</span>,\n",
       "        PARAMETER<span style=\"font-weight: bold\">[</span><span style=\"color: #008000; text-decoration-color: #008000\">\"False northing\"</span>,<span style=\"color: #008080; text-decoration-color: #008080; font-weight: bold\">0</span>,\n",
       "            LENGTHUNIT<span style=\"font-weight: bold\">[</span><span style=\"color: #008000; text-decoration-color: #008000\">\"metre\"</span>,<span style=\"color: #008080; text-decoration-color: #008080; font-weight: bold\">1</span><span style=\"font-weight: bold\">]</span>,\n",
       "            ID<span style=\"font-weight: bold\">[</span><span style=\"color: #008000; text-decoration-color: #008000\">\"EPSG\"</span>,<span style=\"color: #008080; text-decoration-color: #008080; font-weight: bold\">8807</span><span style=\"font-weight: bold\">]]]</span>,\n",
       "    CS<span style=\"font-weight: bold\">[</span>Cartesian,<span style=\"color: #008080; text-decoration-color: #008080; font-weight: bold\">2</span><span style=\"font-weight: bold\">]</span>,\n",
       "        AXIS<span style=\"font-weight: bold\">[</span><span style=\"color: #008000; text-decoration-color: #008000\">\"easting\"</span>,east,\n",
       "            ORDER<span style=\"font-weight: bold\">[</span><span style=\"color: #008080; text-decoration-color: #008080; font-weight: bold\">1</span><span style=\"font-weight: bold\">]</span>,\n",
       "            LENGTHUNIT<span style=\"font-weight: bold\">[</span><span style=\"color: #008000; text-decoration-color: #008000\">\"metre\"</span>,<span style=\"color: #008080; text-decoration-color: #008080; font-weight: bold\">1</span><span style=\"font-weight: bold\">]]</span>,\n",
       "        AXIS<span style=\"font-weight: bold\">[</span><span style=\"color: #008000; text-decoration-color: #008000\">\"northing\"</span>,north,\n",
       "            ORDER<span style=\"font-weight: bold\">[</span><span style=\"color: #008080; text-decoration-color: #008080; font-weight: bold\">2</span><span style=\"font-weight: bold\">]</span>,\n",
       "            LENGTHUNIT<span style=\"font-weight: bold\">[</span><span style=\"color: #008000; text-decoration-color: #008000\">\"metre\"</span>,<span style=\"color: #008080; text-decoration-color: #008080; font-weight: bold\">1</span><span style=\"font-weight: bold\">]]</span>,\n",
       "    ID<span style=\"font-weight: bold\">[</span><span style=\"color: #008000; text-decoration-color: #008000\">\"EPSG\"</span>,<span style=\"color: #008080; text-decoration-color: #008080; font-weight: bold\">32629</span><span style=\"font-weight: bold\">]]</span>\n",
       "</pre>\n"
      ],
      "text/plain": [
       "PROJCRS\u001b[1m[\u001b[0m\u001b[32m\"WGS 84 / UTM zone 29N\"\u001b[0m,\n",
       "    BASEGEOGCRS\u001b[1m[\u001b[0m\u001b[32m\"WGS 84\"\u001b[0m,\n",
       "        DATUM\u001b[1m[\u001b[0m\u001b[32m\"World Geodetic System 1984\"\u001b[0m,\n",
       "            ELLIPSOID\u001b[1m[\u001b[0m\u001b[32m\"WGS 84\"\u001b[0m,\u001b[1;36m6378137\u001b[0m,\u001b[1;36m298.257223563\u001b[0m,\n",
       "                LENGTHUNIT\u001b[1m[\u001b[0m\u001b[32m\"metre\"\u001b[0m,\u001b[1;36m1\u001b[0m\u001b[1m]\u001b[0m\u001b[1m]\u001b[0m\u001b[1m]\u001b[0m,\n",
       "        PRIMEM\u001b[1m[\u001b[0m\u001b[32m\"Greenwich\"\u001b[0m,\u001b[1;36m0\u001b[0m,\n",
       "            ANGLEUNIT\u001b[1m[\u001b[0m\u001b[32m\"degree\"\u001b[0m,\u001b[1;36m0.0174532925199433\u001b[0m\u001b[1m]\u001b[0m\u001b[1m]\u001b[0m,\n",
       "        ID\u001b[1m[\u001b[0m\u001b[32m\"EPSG\"\u001b[0m,\u001b[1;36m4326\u001b[0m\u001b[1m]\u001b[0m\u001b[1m]\u001b[0m,\n",
       "    CONVERSION\u001b[1m[\u001b[0m\u001b[32m\"UTM zone 29N\"\u001b[0m,\n",
       "        METHOD\u001b[1m[\u001b[0m\u001b[32m\"Transverse Mercator\"\u001b[0m,\n",
       "            ID\u001b[1m[\u001b[0m\u001b[32m\"EPSG\"\u001b[0m,\u001b[1;36m9807\u001b[0m\u001b[1m]\u001b[0m\u001b[1m]\u001b[0m,\n",
       "        PARAMETER\u001b[1m[\u001b[0m\u001b[32m\"Latitude of natural origin\"\u001b[0m,\u001b[1;36m0\u001b[0m,\n",
       "            ANGLEUNIT\u001b[1m[\u001b[0m\u001b[32m\"degree\"\u001b[0m,\u001b[1;36m0.0174532925199433\u001b[0m\u001b[1m]\u001b[0m,\n",
       "            ID\u001b[1m[\u001b[0m\u001b[32m\"EPSG\"\u001b[0m,\u001b[1;36m8801\u001b[0m\u001b[1m]\u001b[0m\u001b[1m]\u001b[0m,\n",
       "        PARAMETER\u001b[1m[\u001b[0m\u001b[32m\"Longitude of natural origin\"\u001b[0m,\u001b[1;36m-9\u001b[0m,\n",
       "            ANGLEUNIT\u001b[1m[\u001b[0m\u001b[32m\"degree\"\u001b[0m,\u001b[1;36m0.0174532925199433\u001b[0m\u001b[1m]\u001b[0m,\n",
       "            ID\u001b[1m[\u001b[0m\u001b[32m\"EPSG\"\u001b[0m,\u001b[1;36m8802\u001b[0m\u001b[1m]\u001b[0m\u001b[1m]\u001b[0m,\n",
       "        PARAMETER\u001b[1m[\u001b[0m\u001b[32m\"Scale factor at natural origin\"\u001b[0m,\u001b[1;36m0.9996\u001b[0m,\n",
       "            SCALEUNIT\u001b[1m[\u001b[0m\u001b[32m\"unity\"\u001b[0m,\u001b[1;36m1\u001b[0m\u001b[1m]\u001b[0m,\n",
       "            ID\u001b[1m[\u001b[0m\u001b[32m\"EPSG\"\u001b[0m,\u001b[1;36m8805\u001b[0m\u001b[1m]\u001b[0m\u001b[1m]\u001b[0m,\n",
       "        PARAMETER\u001b[1m[\u001b[0m\u001b[32m\"False easting\"\u001b[0m,\u001b[1;36m500000\u001b[0m,\n",
       "            LENGTHUNIT\u001b[1m[\u001b[0m\u001b[32m\"metre\"\u001b[0m,\u001b[1;36m1\u001b[0m\u001b[1m]\u001b[0m,\n",
       "            ID\u001b[1m[\u001b[0m\u001b[32m\"EPSG\"\u001b[0m,\u001b[1;36m8806\u001b[0m\u001b[1m]\u001b[0m\u001b[1m]\u001b[0m,\n",
       "        PARAMETER\u001b[1m[\u001b[0m\u001b[32m\"False northing\"\u001b[0m,\u001b[1;36m0\u001b[0m,\n",
       "            LENGTHUNIT\u001b[1m[\u001b[0m\u001b[32m\"metre\"\u001b[0m,\u001b[1;36m1\u001b[0m\u001b[1m]\u001b[0m,\n",
       "            ID\u001b[1m[\u001b[0m\u001b[32m\"EPSG\"\u001b[0m,\u001b[1;36m8807\u001b[0m\u001b[1m]\u001b[0m\u001b[1m]\u001b[0m\u001b[1m]\u001b[0m,\n",
       "    CS\u001b[1m[\u001b[0mCartesian,\u001b[1;36m2\u001b[0m\u001b[1m]\u001b[0m,\n",
       "        AXIS\u001b[1m[\u001b[0m\u001b[32m\"easting\"\u001b[0m,east,\n",
       "            ORDER\u001b[1m[\u001b[0m\u001b[1;36m1\u001b[0m\u001b[1m]\u001b[0m,\n",
       "            LENGTHUNIT\u001b[1m[\u001b[0m\u001b[32m\"metre\"\u001b[0m,\u001b[1;36m1\u001b[0m\u001b[1m]\u001b[0m\u001b[1m]\u001b[0m,\n",
       "        AXIS\u001b[1m[\u001b[0m\u001b[32m\"northing\"\u001b[0m,north,\n",
       "            ORDER\u001b[1m[\u001b[0m\u001b[1;36m2\u001b[0m\u001b[1m]\u001b[0m,\n",
       "            LENGTHUNIT\u001b[1m[\u001b[0m\u001b[32m\"metre\"\u001b[0m,\u001b[1;36m1\u001b[0m\u001b[1m]\u001b[0m\u001b[1m]\u001b[0m,\n",
       "    ID\u001b[1m[\u001b[0m\u001b[32m\"EPSG\"\u001b[0m,\u001b[1;36m32629\u001b[0m\u001b[1m]\u001b[0m\u001b[1m]\u001b[0m\n"
      ]
     },
     "metadata": {},
     "output_type": "display_data"
    }
   ],
   "source": [
    "# remove-input\n",
    "import pyproj\n",
    "\n",
    "print(pyproj.CRS.from_user_input(j[\"projection\"]).to_wkt(pretty=True))"
   ]
  },
  {
   "cell_type": "markdown",
   "metadata": {
    "tags": []
   },
   "source": [
    "The `projection` entry encodes the CRS information in the [WKT](https://en.wikipedia.org/wiki/Well-known_text_representation_of_coordinate_reference_systems) format.\n",
    "For most use-cases, it is sufficient to know, that the combination of the CRS and `coordinates` values define the exact location of a patch.\n",
    "For more details about what coordinate reference systems are feel free to take a look at one of the following introductory courses:\n",
    "- [earthdatascience earth-analytics course](https://www.earthdatascience.org/courses/earth-analytics/spatial-data-r/intro-to-coordinate-reference-systems/)\n",
    "- [gisbooklet](https://bookdown.org/tep/gisbooklet/introduction-to-coordinate-reference-system.html)"
   ]
  },
  {
   "cell_type": "markdown",
   "metadata": {},
   "source": [
    "## BigEarthNet-S1"
   ]
  },
  {
   "cell_type": "code",
   "execution_count": 5,
   "metadata": {},
   "outputs": [
    {
     "data": {
      "text/html": [
       "<pre style=\"white-space:pre;overflow-x:auto;line-height:normal;font-family:Menlo,'DejaVu Sans Mono',consolas,'Courier New',monospace\">📂 <span style=\"font-weight: bold\">BigEarthNet-S1-Example</span>\n",
       "├── 📂 <span style=\"font-weight: bold\">S1A_IW_GRDH_1SDV_20170613T165043_33UUP_87_48</span>\n",
       "│   ├── 🗺️ <span style=\"color: #7f7f7f; text-decoration-color: #7f7f7f\">S1A_</span><span style=\"color: #7f7f7f; text-decoration-color: #7f7f7f; font-weight: bold\">IW_GRDH_1SDV_20170613T165043_33UUP_87_48_</span><span style=\"font-weight: bold\">VH.tif</span>\n",
       "│   ├── 🗺️ <span style=\"color: #7f7f7f; text-decoration-color: #7f7f7f\">S1A_</span><span style=\"color: #7f7f7f; text-decoration-color: #7f7f7f; font-weight: bold\">IW_GRDH_1SDV_20170613T165043_33UUP_87_48_</span><span style=\"font-weight: bold\">VV.tif</span>\n",
       "│   └── 📄 <span style=\"color: #7f7f7f; text-decoration-color: #7f7f7f\">S1A_IW_GRDH_1SDV_20170613T165043_33UUP_87_48_</span><span style=\"font-weight: bold\">labels_metadata.json</span>\n",
       "├── 📂 <span style=\"font-weight: bold\">S1A_IW_GRDH_1SDV_20170925T043256_35VPK_69_24</span>\n",
       "│   ├── 🗺️ <span style=\"color: #7f7f7f; text-decoration-color: #7f7f7f\">S1A_</span><span style=\"color: #7f7f7f; text-decoration-color: #7f7f7f; font-weight: bold\">IW_GRDH_1SDV_20170925T043256_35VPK_69_24_</span><span style=\"font-weight: bold\">VH.tif</span>\n",
       "│   ├── 🗺️ <span style=\"color: #7f7f7f; text-decoration-color: #7f7f7f\">S1A_</span><span style=\"color: #7f7f7f; text-decoration-color: #7f7f7f; font-weight: bold\">IW_GRDH_1SDV_20170925T043256_35VPK_69_24_</span><span style=\"font-weight: bold\">VV.tif</span>\n",
       "│   └── 📄 <span style=\"color: #7f7f7f; text-decoration-color: #7f7f7f\">S1A_IW_GRDH_1SDV_20170925T043256_35VPK_69_24_</span><span style=\"font-weight: bold\">labels_metadata.json</span>\n",
       "└── 📂 <span style=\"font-weight: bold\">S1A_IW_GRDH_1SDV_20180204T043253_35VPK_57_38</span>\n",
       "    ├── 🗺️ <span style=\"color: #7f7f7f; text-decoration-color: #7f7f7f\">S1A_</span><span style=\"color: #7f7f7f; text-decoration-color: #7f7f7f; font-weight: bold\">IW_GRDH_1SDV_20180204T043253_35VPK_57_38_</span><span style=\"font-weight: bold\">VH.tif</span>\n",
       "    ├── 🗺️ <span style=\"color: #7f7f7f; text-decoration-color: #7f7f7f\">S1A_</span><span style=\"color: #7f7f7f; text-decoration-color: #7f7f7f; font-weight: bold\">IW_GRDH_1SDV_20180204T043253_35VPK_57_38_</span><span style=\"font-weight: bold\">VV.tif</span>\n",
       "    └── 📄 <span style=\"color: #7f7f7f; text-decoration-color: #7f7f7f\">S1A_IW_GRDH_1SDV_20180204T043253_35VPK_57_38_</span><span style=\"font-weight: bold\">labels_metadata.json</span>\n",
       "</pre>\n"
      ],
      "text/plain": [
       "📂 \u001b[1mBigEarthNet-S1-Example\u001b[0m\n",
       "├── 📂 \u001b[1mS1A_IW_GRDH_1SDV_20170613T165043_33UUP_87_48\u001b[0m\n",
       "│   ├── 🗺️ \u001b[2mS1A_\u001b[0m\u001b[1;2mIW_GRDH_1SDV_20170613T165043_33UUP_87_48_\u001b[0m\u001b[1mVH.tif\u001b[0m\n",
       "│   ├── 🗺️ \u001b[2mS1A_\u001b[0m\u001b[1;2mIW_GRDH_1SDV_20170613T165043_33UUP_87_48_\u001b[0m\u001b[1mVV.tif\u001b[0m\n",
       "│   └── 📄 \u001b[2mS1A_IW_GRDH_1SDV_20170613T165043_33UUP_87_48_\u001b[0m\u001b[1mlabels_metadata.json\u001b[0m\n",
       "├── 📂 \u001b[1mS1A_IW_GRDH_1SDV_20170925T043256_35VPK_69_24\u001b[0m\n",
       "│   ├── 🗺️ \u001b[2mS1A_\u001b[0m\u001b[1;2mIW_GRDH_1SDV_20170925T043256_35VPK_69_24_\u001b[0m\u001b[1mVH.tif\u001b[0m\n",
       "│   ├── 🗺️ \u001b[2mS1A_\u001b[0m\u001b[1;2mIW_GRDH_1SDV_20170925T043256_35VPK_69_24_\u001b[0m\u001b[1mVV.tif\u001b[0m\n",
       "│   └── 📄 \u001b[2mS1A_IW_GRDH_1SDV_20170925T043256_35VPK_69_24_\u001b[0m\u001b[1mlabels_metadata.json\u001b[0m\n",
       "└── 📂 \u001b[1mS1A_IW_GRDH_1SDV_20180204T043253_35VPK_57_38\u001b[0m\n",
       "    ├── 🗺️ \u001b[2mS1A_\u001b[0m\u001b[1;2mIW_GRDH_1SDV_20180204T043253_35VPK_57_38_\u001b[0m\u001b[1mVH.tif\u001b[0m\n",
       "    ├── 🗺️ \u001b[2mS1A_\u001b[0m\u001b[1;2mIW_GRDH_1SDV_20180204T043253_35VPK_57_38_\u001b[0m\u001b[1mVV.tif\u001b[0m\n",
       "    └── 📄 \u001b[2mS1A_IW_GRDH_1SDV_20180204T043253_35VPK_57_38_\u001b[0m\u001b[1mlabels_metadata.json\u001b[0m\n"
      ]
     },
     "execution_count": 5,
     "metadata": {},
     "output_type": "execute_result"
    }
   ],
   "source": [
    "# remove-input\n",
    "\n",
    "ben_s1_path = get_s1_example_folder_path()\n",
    "walk_ben_directory(ben_s1_path)"
   ]
  },
  {
   "cell_type": "markdown",
   "metadata": {},
   "source": [
    "With the following conventions:\n",
    "- Each folder coressponds to a single patch\n",
    "- The `patch_name` is encoded as the name of the folder\n",
    "- Both bands `VH` and `VV` are saved as an indivdual [GeoTIFF](https://en.wikipedia.org/wiki/GeoTIFF) file\n",
    "  - The name of the GeoTIFF file is encoded as `<patch_name>_<band>.tif`.\n",
    "- The [JSON](https://en.wikipedia.org/wiki/JSON) file, named `<patch_name>_labels_metadata.json`, contains the metadata\n",
    "\n",
    "The prettified contents of a metadata file is:"
   ]
  },
  {
   "cell_type": "code",
   "execution_count": 6,
   "metadata": {},
   "outputs": [
    {
     "data": {
      "text/html": [
       "<pre style=\"white-space:pre;overflow-x:auto;line-height:normal;font-family:Menlo,'DejaVu Sans Mono',consolas,'Courier New',monospace\"><span style=\"font-weight: bold\">{</span>\n",
       "  <span style=\"color: #000080; text-decoration-color: #000080; font-weight: bold\">\"labels\"</span>: <span style=\"font-weight: bold\">[</span>\n",
       "    <span style=\"color: #008000; text-decoration-color: #008000\">\"Non-irrigated arable land\"</span>,\n",
       "    <span style=\"color: #008000; text-decoration-color: #008000\">\"Land principally occupied by agriculture, with significant areas of natural vegetation\"</span>\n",
       "  <span style=\"font-weight: bold\">]</span>,\n",
       "  <span style=\"color: #000080; text-decoration-color: #000080; font-weight: bold\">\"coordinates\"</span>: <span style=\"font-weight: bold\">{</span>\n",
       "    <span style=\"color: #000080; text-decoration-color: #000080; font-weight: bold\">\"ulx\"</span>: <span style=\"color: #008080; text-decoration-color: #008080; font-weight: bold\">404400</span>,\n",
       "    <span style=\"color: #000080; text-decoration-color: #000080; font-weight: bold\">\"uly\"</span>: <span style=\"color: #008080; text-decoration-color: #008080; font-weight: bold\">5342400</span>,\n",
       "    <span style=\"color: #000080; text-decoration-color: #000080; font-weight: bold\">\"lrx\"</span>: <span style=\"color: #008080; text-decoration-color: #008080; font-weight: bold\">405600</span>,\n",
       "    <span style=\"color: #000080; text-decoration-color: #000080; font-weight: bold\">\"lly\"</span>: <span style=\"color: #008080; text-decoration-color: #008080; font-weight: bold\">5341200</span>\n",
       "  <span style=\"font-weight: bold\">}</span>,\n",
       "  <span style=\"color: #000080; text-decoration-color: #000080; font-weight: bold\">\"projection\"</span>: <span style=\"color: #008000; text-decoration-color: #008000\">\"PROJCS[\\\"WGS 84 / UTM zone 33N\\\",GEOGCS[\\\"WGS 84\\\",DATUM[\\\"WGS_1984\\\",SPHEROID[\\\"W...\"</span>,\n",
       "  <span style=\"color: #000080; text-decoration-color: #000080; font-weight: bold\">\"corresponding_s2_patch\"</span>: <span style=\"color: #008000; text-decoration-color: #008000\">\"S2A_MSIL2A_20170613T101031_87_48\"</span>,\n",
       "  <span style=\"color: #000080; text-decoration-color: #000080; font-weight: bold\">\"scene_source\"</span>: <span style=\"color: #008000; text-decoration-color: #008000\">\"S1A_IW_GRDH_1SDV_20170613T165043_20170613T165108_017018_01C579_7EEC\"</span>,\n",
       "  <span style=\"color: #000080; text-decoration-color: #000080; font-weight: bold\">\"acquisition_time\"</span>: <span style=\"color: #008000; text-decoration-color: #008000\">\"2017-06-13T16:50:43\"</span>\n",
       "<span style=\"font-weight: bold\">}</span>\n",
       "</pre>\n"
      ],
      "text/plain": [
       "\u001b[1m{\u001b[0m\n",
       "  \u001b[1;34m\"labels\"\u001b[0m: \u001b[1m[\u001b[0m\n",
       "    \u001b[32m\"Non-irrigated arable land\"\u001b[0m,\n",
       "    \u001b[32m\"Land principally occupied by agriculture, with significant areas of natural vegetation\"\u001b[0m\n",
       "  \u001b[1m]\u001b[0m,\n",
       "  \u001b[1;34m\"coordinates\"\u001b[0m: \u001b[1m{\u001b[0m\n",
       "    \u001b[1;34m\"ulx\"\u001b[0m: \u001b[1;36m404400\u001b[0m,\n",
       "    \u001b[1;34m\"uly\"\u001b[0m: \u001b[1;36m5342400\u001b[0m,\n",
       "    \u001b[1;34m\"lrx\"\u001b[0m: \u001b[1;36m405600\u001b[0m,\n",
       "    \u001b[1;34m\"lly\"\u001b[0m: \u001b[1;36m5341200\u001b[0m\n",
       "  \u001b[1m}\u001b[0m,\n",
       "  \u001b[1;34m\"projection\"\u001b[0m: \u001b[32m\"PROJCS[\\\"WGS 84 / UTM zone 33N\\\",GEOGCS[\\\"WGS 84\\\",DATUM[\\\"WGS_1984\\\",SPHEROID[\\\"W...\"\u001b[0m,\n",
       "  \u001b[1;34m\"corresponding_s2_patch\"\u001b[0m: \u001b[32m\"S2A_MSIL2A_20170613T101031_87_48\"\u001b[0m,\n",
       "  \u001b[1;34m\"scene_source\"\u001b[0m: \u001b[32m\"S1A_IW_GRDH_1SDV_20170613T165043_20170613T165108_017018_01C579_7EEC\"\u001b[0m,\n",
       "  \u001b[1;34m\"acquisition_time\"\u001b[0m: \u001b[32m\"2017-06-13T16:50:43\"\u001b[0m\n",
       "\u001b[1m}\u001b[0m\n"
      ]
     },
     "metadata": {},
     "output_type": "display_data"
    }
   ],
   "source": [
    "# remove-input\n",
    "\n",
    "from rich import print_json\n",
    "from copy import copy\n",
    "import json\n",
    "\n",
    "ben_s1_json_file_paths = list(Path(ben_s1_path).rglob(\"*.json\"))\n",
    "ben_s1_json_fp = ben_s1_json_file_paths[0]\n",
    "text = ben_s1_json_fp.read_text()\n",
    "j = json.loads(text)\n",
    "simple_j = copy(j)\n",
    "simple_j[\"projection\"] = simple_j[\"projection\"][:75] + \"...\"\n",
    "\n",
    "print_json(data=simple_j)"
   ]
  },
  {
   "cell_type": "markdown",
   "metadata": {},
   "source": [
    ":::{warning}\n",
    "Compared to the BigEarthNet-S2 metadata file, BigEarthNet-S1:\n",
    "- calls the date field `acquisition_time` and not `acquisition_date` (S2).\n",
    "- Encodes the date with `YYYY-MM-DD`T`hh:mm:ss` and not `YYYY-MM-DD hh:mm:ss` (S2)\n",
    ":::"
   ]
  },
  {
   "cell_type": "markdown",
   "metadata": {
    "tags": []
   },
   "source": [
    "## Metadata Discussion"
   ]
  },
  {
   "cell_type": "code",
   "execution_count": 7,
   "metadata": {
    "tags": []
   },
   "outputs": [
    {
     "data": {
      "application/papermill.record/text/html": "<style type=\"text/css\">\n</style>\n<table id=\"T_b2c4e\">\n  <thead>\n    <tr>\n      <th class=\"blank level0\" >&nbsp;</th>\n      <th id=\"T_b2c4e_level0_col0\" class=\"col_heading level0 col0\" >labels</th>\n      <th id=\"T_b2c4e_level0_col1\" class=\"col_heading level0 col1\" >tile_source</th>\n      <th id=\"T_b2c4e_level0_col2\" class=\"col_heading level0 col2\" >acquisition_date</th>\n      <th id=\"T_b2c4e_level0_col3\" class=\"col_heading level0 col3\" >name</th>\n      <th id=\"T_b2c4e_level0_col4\" class=\"col_heading level0 col4\" >geometry</th>\n    </tr>\n  </thead>\n  <tbody>\n    <tr>\n      <th id=\"T_b2c4e_level0_row0\" class=\"row_heading level0 row0\" >0</th>\n      <td id=\"T_b2c4e_row0_col0\" class=\"data row0 col0\" >['Complex cultivation patterns', 'Land principally occupied by agriculture, with significant areas of natural vegetation', 'Broad-leaved forest', 'Transitional woodland/shrub']</td>\n      <td id=\"T_b2c4e_row0_col1\" class=\"data row0 col1\" >S2A_MSIL1C_2017\n1221T112501_N02\n06_R037_T29SND_\n20171221T114356\n.SAFE</td>\n      <td id=\"T_b2c4e_row0_col2\" class=\"data row0 col2\" >2017-12-21 11:25:01</td>\n      <td id=\"T_b2c4e_row0_col3\" class=\"data row0 col3\" >S2A_MSIL2A_2017\n1221T112501_56_\n35</td>\n      <td id=\"T_b2c4e_row0_col4\" class=\"data row0 col4\" >POLYGON ((2759565.0946549335 1995691.9501349647, 2759833.7352373255 1996859.0604991948, 2758667.523953887 1997156.3940600979, 2758398.8669133694 1995989.2738648932, 2759565.0946549335 1995691.9501349647))</td>\n    </tr>\n    <tr>\n      <th id=\"T_b2c4e_level0_row1\" class=\"row_heading level0 row1\" >1</th>\n      <td id=\"T_b2c4e_row1_col0\" class=\"data row1 col0\" >['Non-irrigated arable land', 'Pastures']</td>\n      <td id=\"T_b2c4e_row1_col1\" class=\"data row1 col1\" >S2A_MSIL1C_2017\n0617T113321_N02\n05_R080_T29UPU_\n20170617T113319\n.SAFE</td>\n      <td id=\"T_b2c4e_row1_col2\" class=\"data row1 col2\" >2017-06-17 11:33:21</td>\n      <td id=\"T_b2c4e_row1_col3\" class=\"data row1 col3\" >S2A_MSIL2A_2017\n0617T113321_36_\n85</td>\n      <td id=\"T_b2c4e_row1_col4\" class=\"data row1 col4\" >POLYGON ((3181331.5370094078 3376775.0966186523, 3181642.980773266 3377939.1849836037, 3180488.731237465 3378249.876162245, 3180177.2825893136 3377085.773222342, 3181331.5370094078 3376775.0966186523))</td>\n    </tr>\n    <tr>\n      <th id=\"T_b2c4e_level0_row2\" class=\"row_heading level0 row2\" >2</th>\n      <td id=\"T_b2c4e_row2_col0\" class=\"data row2 col0\" >['Pastures']</td>\n      <td id=\"T_b2c4e_row2_col1\" class=\"data row2 col1\" >S2A_MSIL1C_2017\n0617T113321_N02\n05_R080_T29UPU_\n20170617T113319\n.SAFE</td>\n      <td id=\"T_b2c4e_row2_col2\" class=\"data row2 col2\" >2017-06-17 11:33:21</td>\n      <td id=\"T_b2c4e_row2_col3\" class=\"data row2 col3\" >S2A_MSIL2A_2017\n0617T113321_4_5\n5</td>\n      <td id=\"T_b2c4e_row2_col4\" class=\"data row2 col4\" >POLYGON ((3153761.286862948 3421649.9389573466, 3154073.9127928074 3422814.225959511, 3152920.0042282445 3423125.364234967, 3152607.373968621 3421961.0635596397, 3153761.286862948 3421649.9389573466))</td>\n    </tr>\n  </tbody>\n</table>\n",
      "application/papermill.record/text/plain": "<pandas.io.formats.style.Styler at 0x7f22561a2e20>"
     },
     "metadata": {
      "scrapbook": {
       "mime_prefix": "application/papermill.record/",
       "name": "ben-s2-gdf"
      }
     },
     "output_type": "display_data"
    }
   ],
   "source": [
    "# remove-input\n",
    "from bigearthnet_gdf_builder.builder import get_gdf_from_s2_patch_dir\n",
    "from myst_nb.glue import glue\n",
    "\n",
    "gdf = get_gdf_from_s2_patch_dir(ben_s2_path)\n",
    "gdf[\"tile_source\"] = gdf[\"tile_source\"].str.wrap(15, break_long_words=True)\n",
    "gdf[\"name\"] = gdf[\"name\"].str.wrap(15, break_long_words=True)\n",
    "gdf_style = gdf.style\n",
    "# .set_properties(**{\n",
    "#     'white-space': 'pre-wrap',\n",
    "# })\n",
    "glue(\"ben-s2-gdf\", gdf_style, display=False)"
   ]
  },
  {
   "cell_type": "markdown",
   "metadata": {
    "tags": []
   },
   "source": [
    "The advantages of having a JSON metadata file in every patch folder are:\n",
    "1. JSON is well known data format and has excellent library support\n",
    "2. Is human-readable (not a binary format)\n",
    "3. Locating the metadata _next_ to the images allows the end-user to easily select subsets of the archive without having to deal with the metadata separately\n",
    "   - Copying the patches of interest will always include the metadata\n",
    "\n",
    "The main disadvantages is that each archive (~80GB) has to be downloaded and that it is not easy to perform statistical analysis.\n",
    "The metadata files have to be parsed and converted into a common data structure first.\n",
    "Usually, the metadata is converted into a tabular format to allow the use of data analysis tools, such as [pandas](https://pandas.pydata.org/), or the geographical extension, [geopandas](https://geopandas.org/en/stable/).\n",
    "\n",
    "Instead of re-writing another parsing script, we recommend to use one of the pre-converted files:\n",
    "- BigEarthNet-S2\n",
    "   - [raw_ben_gdf.parquet](https://tubcloud.tu-berlin.de/s/gxp8KGk8TfcH6rR)\n",
    "      - The original parquet file that is produced by parsing all metadata files and projecting to a common CRS\n",
    "   - [extended_ben_gdf.parquet](https://tubcloud.tu-berlin.de/s/5cstd7EJRB8kCyL)\n",
    "      - An extended version of the `raw_ben_gdf.parquet` file with additional metadata:\n",
    "        - 19-class nomenclature\n",
    "        - Covered by seasonal snow\n",
    "        - Covered by clouds or shadows\n",
    "        - Original split\n",
    "        - Country\n",
    "        - Season\n",
    "   - [final_ben.parquet](https://tubcloud.tu-berlin.de/s/wtqZQKawLaBZZY8)\n",
    "     - The recommended subset of `extended_ben_gdf.parquet`, where no patch is covered by snow, clouds or shadows and every patch has at least one target label in the 19-class nomenclature\n",
    "\n",
    "These files were generated with an open-source library called [bigearthnet_gdf_builder](https://github.com/kai-tub/bigearthnet_gdf_builder) to convert the metadata into a tabular format:\n",
    "\n",
    ":::{dropdown} BigEarthNet-S2-Example Metadata in tabular form\n",
    ":::{glue:} ben-s2-gdf\n",
    ":::"
   ]
  },
  {
   "cell_type": "markdown",
   "metadata": {},
   "source": [
    "Parquet files allow for easy data-processing and visualization.\n",
    "These files work particularly well with geopandas:"
   ]
  },
  {
   "cell_type": "code",
   "execution_count": 8,
   "metadata": {},
   "outputs": [
    {
     "data": {
      "text/html": [
       "<div style=\"width:100%;\"><div style=\"position:relative;width:100%;height:0;padding-bottom:60%;\"><span style=\"color:#565656\">Make this Notebook Trusted to load map: File -> Trust Notebook</span><iframe srcdoc=\"&lt;!DOCTYPE html&gt;\n",
       "&lt;head&gt;    \n",
       "    &lt;meta http-equiv=&quot;content-type&quot; content=&quot;text/html; charset=UTF-8&quot; /&gt;\n",
       "    \n",
       "        &lt;script&gt;\n",
       "            L_NO_TOUCH = false;\n",
       "            L_DISABLE_3D = false;\n",
       "        &lt;/script&gt;\n",
       "    \n",
       "    &lt;style&gt;html, body {width: 100%;height: 100%;margin: 0;padding: 0;}&lt;/style&gt;\n",
       "    &lt;style&gt;#map {position:absolute;top:0;bottom:0;right:0;left:0;}&lt;/style&gt;\n",
       "    &lt;script src=&quot;https://cdn.jsdelivr.net/npm/leaflet@1.6.0/dist/leaflet.js&quot;&gt;&lt;/script&gt;\n",
       "    &lt;script src=&quot;https://code.jquery.com/jquery-1.12.4.min.js&quot;&gt;&lt;/script&gt;\n",
       "    &lt;script src=&quot;https://maxcdn.bootstrapcdn.com/bootstrap/3.2.0/js/bootstrap.min.js&quot;&gt;&lt;/script&gt;\n",
       "    &lt;script src=&quot;https://cdnjs.cloudflare.com/ajax/libs/Leaflet.awesome-markers/2.0.2/leaflet.awesome-markers.js&quot;&gt;&lt;/script&gt;\n",
       "    &lt;link rel=&quot;stylesheet&quot; href=&quot;https://cdn.jsdelivr.net/npm/leaflet@1.6.0/dist/leaflet.css&quot;/&gt;\n",
       "    &lt;link rel=&quot;stylesheet&quot; href=&quot;https://maxcdn.bootstrapcdn.com/bootstrap/3.2.0/css/bootstrap.min.css&quot;/&gt;\n",
       "    &lt;link rel=&quot;stylesheet&quot; href=&quot;https://maxcdn.bootstrapcdn.com/bootstrap/3.2.0/css/bootstrap-theme.min.css&quot;/&gt;\n",
       "    &lt;link rel=&quot;stylesheet&quot; href=&quot;https://maxcdn.bootstrapcdn.com/font-awesome/4.6.3/css/font-awesome.min.css&quot;/&gt;\n",
       "    &lt;link rel=&quot;stylesheet&quot; href=&quot;https://cdnjs.cloudflare.com/ajax/libs/Leaflet.awesome-markers/2.0.2/leaflet.awesome-markers.css&quot;/&gt;\n",
       "    &lt;link rel=&quot;stylesheet&quot; href=&quot;https://cdn.jsdelivr.net/gh/python-visualization/folium/folium/templates/leaflet.awesome.rotate.min.css&quot;/&gt;\n",
       "    \n",
       "            &lt;meta name=&quot;viewport&quot; content=&quot;width=device-width,\n",
       "                initial-scale=1.0, maximum-scale=1.0, user-scalable=no&quot; /&gt;\n",
       "            &lt;style&gt;\n",
       "                #map_3007a61025f01f2e5e6d32cdcfbd92b9 {\n",
       "                    position: relative;\n",
       "                    width: 100.0%;\n",
       "                    height: 100.0%;\n",
       "                    left: 0.0%;\n",
       "                    top: 0.0%;\n",
       "                }\n",
       "            &lt;/style&gt;\n",
       "        \n",
       "    \n",
       "                    &lt;style&gt;\n",
       "                        .foliumtooltip {\n",
       "                            \n",
       "                        }\n",
       "                       .foliumtooltip table{\n",
       "                            margin: auto;\n",
       "                        }\n",
       "                        .foliumtooltip tr{\n",
       "                            text-align: left;\n",
       "                        }\n",
       "                        .foliumtooltip th{\n",
       "                            padding: 2px; padding-right: 8px;\n",
       "                        }\n",
       "                    &lt;/style&gt;\n",
       "            \n",
       "&lt;/head&gt;\n",
       "&lt;body&gt;    \n",
       "    \n",
       "            &lt;div class=&quot;folium-map&quot; id=&quot;map_3007a61025f01f2e5e6d32cdcfbd92b9&quot; &gt;&lt;/div&gt;\n",
       "        \n",
       "&lt;/body&gt;\n",
       "&lt;script&gt;    \n",
       "    \n",
       "            var map_3007a61025f01f2e5e6d32cdcfbd92b9 = L.map(\n",
       "                &quot;map_3007a61025f01f2e5e6d32cdcfbd92b9&quot;,\n",
       "                {\n",
       "                    center: [52.30844257051936, -6.8906856125193485],\n",
       "                    crs: L.CRS.EPSG3857,\n",
       "                    zoom: 10,\n",
       "                    zoomControl: true,\n",
       "                    preferCanvas: false,\n",
       "                }\n",
       "            );\n",
       "            L.control.scale().addTo(map_3007a61025f01f2e5e6d32cdcfbd92b9);\n",
       "\n",
       "            \n",
       "\n",
       "        \n",
       "    \n",
       "            var tile_layer_eab410df30f24c805813bf895b83c802 = L.tileLayer(\n",
       "                &quot;https://{s}.tile.openstreetmap.org/{z}/{x}/{y}.png&quot;,\n",
       "                {&quot;attribution&quot;: &quot;Data by \\u0026copy; \\u003ca href=\\&quot;http://openstreetmap.org\\&quot;\\u003eOpenStreetMap\\u003c/a\\u003e, under \\u003ca href=\\&quot;http://www.openstreetmap.org/copyright\\&quot;\\u003eODbL\\u003c/a\\u003e.&quot;, &quot;detectRetina&quot;: false, &quot;maxNativeZoom&quot;: 18, &quot;maxZoom&quot;: 18, &quot;minZoom&quot;: 0, &quot;noWrap&quot;: false, &quot;opacity&quot;: 1, &quot;subdomains&quot;: &quot;abc&quot;, &quot;tms&quot;: false}\n",
       "            ).addTo(map_3007a61025f01f2e5e6d32cdcfbd92b9);\n",
       "        \n",
       "    \n",
       "            map_3007a61025f01f2e5e6d32cdcfbd92b9.fitBounds(\n",
       "                [[52.302894827735365, -6.899736490283034], [52.313990313303364, -6.881634734755663]],\n",
       "                {}\n",
       "            );\n",
       "        \n",
       "    \n",
       "        function geo_json_eac67b9a9082c7688af6a587a52067af_styler(feature) {\n",
       "            switch(feature.id) {\n",
       "                default:\n",
       "                    return {&quot;fillOpacity&quot;: 0.5, &quot;weight&quot;: 2};\n",
       "            }\n",
       "        }\n",
       "        function geo_json_eac67b9a9082c7688af6a587a52067af_highlighter(feature) {\n",
       "            switch(feature.id) {\n",
       "                default:\n",
       "                    return {&quot;fillOpacity&quot;: 0.75};\n",
       "            }\n",
       "        }\n",
       "        function geo_json_eac67b9a9082c7688af6a587a52067af_pointToLayer(feature, latlng) {\n",
       "            var opts = {&quot;bubblingMouseEvents&quot;: true, &quot;color&quot;: &quot;#3388ff&quot;, &quot;dashArray&quot;: null, &quot;dashOffset&quot;: null, &quot;fill&quot;: true, &quot;fillColor&quot;: &quot;#3388ff&quot;, &quot;fillOpacity&quot;: 0.2, &quot;fillRule&quot;: &quot;evenodd&quot;, &quot;lineCap&quot;: &quot;round&quot;, &quot;lineJoin&quot;: &quot;round&quot;, &quot;opacity&quot;: 1.0, &quot;radius&quot;: 2, &quot;stroke&quot;: true, &quot;weight&quot;: 3};\n",
       "            \n",
       "            let style = geo_json_eac67b9a9082c7688af6a587a52067af_styler(feature)\n",
       "            Object.assign(opts, style)\n",
       "            \n",
       "            return new L.CircleMarker(latlng, opts)\n",
       "        }\n",
       "\n",
       "        function geo_json_eac67b9a9082c7688af6a587a52067af_onEachFeature(feature, layer) {\n",
       "            layer.on({\n",
       "                mouseout: function(e) {\n",
       "                    if(typeof e.target.setStyle === &quot;function&quot;){\n",
       "                        geo_json_eac67b9a9082c7688af6a587a52067af.resetStyle(e.target);\n",
       "                    }\n",
       "                },\n",
       "                mouseover: function(e) {\n",
       "                    if(typeof e.target.setStyle === &quot;function&quot;){\n",
       "                        const highlightStyle = geo_json_eac67b9a9082c7688af6a587a52067af_highlighter(e.target.feature)\n",
       "                        e.target.setStyle(highlightStyle);\n",
       "                    }\n",
       "                },\n",
       "            });\n",
       "        };\n",
       "        var geo_json_eac67b9a9082c7688af6a587a52067af = L.geoJson(null, {\n",
       "                onEachFeature: geo_json_eac67b9a9082c7688af6a587a52067af_onEachFeature,\n",
       "            \n",
       "                style: geo_json_eac67b9a9082c7688af6a587a52067af_styler,\n",
       "                pointToLayer: geo_json_eac67b9a9082c7688af6a587a52067af_pointToLayer\n",
       "        });\n",
       "\n",
       "        function geo_json_eac67b9a9082c7688af6a587a52067af_add (data) {\n",
       "            geo_json_eac67b9a9082c7688af6a587a52067af\n",
       "                .addData(data)\n",
       "                .addTo(map_3007a61025f01f2e5e6d32cdcfbd92b9);\n",
       "        }\n",
       "            geo_json_eac67b9a9082c7688af6a587a52067af_add({&quot;bbox&quot;: [-6.899736490283034, 52.302894827735365, -6.881634734755663, 52.313990313303364], &quot;features&quot;: [{&quot;bbox&quot;: [-6.899736490283034, 52.302894827735365, -6.881634734755663, 52.313990313303364], &quot;geometry&quot;: {&quot;coordinates&quot;: [[[-6.882149503012415, 52.302894827735365], [-6.881634734755663, 52.31367603268313], [-6.899225989052316, 52.313990313303364], [-6.899736490283034, 52.30320898691694], [-6.882149503012415, 52.302894827735365]]], &quot;type&quot;: &quot;Polygon&quot;}, &quot;id&quot;: &quot;1&quot;, &quot;properties&quot;: {&quot;acquisition_date&quot;: &quot;2017-06-17 11:33:21&quot;, &quot;labels&quot;: [&quot;Non-irrigated arable land&quot;, &quot;Pastures&quot;], &quot;name&quot;: &quot;S2A_MSIL2A_2017\\n0617T113321_36_\\n85&quot;, &quot;tile_source&quot;: &quot;S2A_MSIL1C_2017\\n0617T113321_N02\\n05_R080_T29UPU_\\n20170617T113319\\n.SAFE&quot;}, &quot;type&quot;: &quot;Feature&quot;}], &quot;type&quot;: &quot;FeatureCollection&quot;});\n",
       "\n",
       "        \n",
       "    \n",
       "    geo_json_eac67b9a9082c7688af6a587a52067af.bindTooltip(\n",
       "    function(layer){\n",
       "    let div = L.DomUtil.create(&#x27;div&#x27;);\n",
       "    \n",
       "    let handleObject = feature=&gt;typeof(feature)==&#x27;object&#x27; ? JSON.stringify(feature) : feature;\n",
       "    let fields = [&quot;labels&quot;, &quot;tile_source&quot;, &quot;acquisition_date&quot;, &quot;name&quot;];\n",
       "    let aliases = [&quot;labels&quot;, &quot;tile_source&quot;, &quot;acquisition_date&quot;, &quot;name&quot;];\n",
       "    let table = &#x27;&lt;table&gt;&#x27; +\n",
       "        String(\n",
       "        fields.map(\n",
       "        (v,i)=&gt;\n",
       "        `&lt;tr&gt;\n",
       "            &lt;th&gt;${aliases[i]}&lt;/th&gt;\n",
       "            \n",
       "            &lt;td&gt;${handleObject(layer.feature.properties[v])}&lt;/td&gt;\n",
       "        &lt;/tr&gt;`).join(&#x27;&#x27;))\n",
       "    +&#x27;&lt;/table&gt;&#x27;;\n",
       "    div.innerHTML=table;\n",
       "    \n",
       "    return div\n",
       "    }\n",
       "    ,{&quot;className&quot;: &quot;foliumtooltip&quot;, &quot;sticky&quot;: true});\n",
       "                     \n",
       "&lt;/script&gt;\" style=\"position:absolute;width:100%;height:100%;left:0;top:0;border:none !important;\" allowfullscreen webkitallowfullscreen mozallowfullscreen></iframe></div></div>"
      ],
      "text/plain": [
       "<folium.folium.Map at 0x7f228e4dc310>"
      ]
     },
     "execution_count": 8,
     "metadata": {},
     "output_type": "execute_result"
    }
   ],
   "source": [
    "# remove-input\n",
    "gdf[[False, True, False]].explore()"
   ]
  },
  {
   "cell_type": "markdown",
   "metadata": {
    "tags": []
   },
   "source": [
    "\n",
    ":::{important}\n",
    "Instead of writing another metadata loading script:\n",
    "- Download one of the pre-converted files or\n",
    "- Use the [bigearthnet_gdf_builder](https://github.com/kai-tub/bigearthnet_gdf_builder) tool to convert the metadata into a tabular format\n",
    ":::"
   ]
  },
  {
   "cell_type": "code",
   "execution_count": null,
   "metadata": {
    "tags": []
   },
   "outputs": [],
   "source": []
  }
 ],
 "metadata": {
  "interpreter": {
   "hash": "d04f4122953c0b2666020e2f05a0691bb1ff802db50085c570115dd0e237fdaa"
  },
  "kernelspec": {
   "display_name": "Python 3.8.12 64-bit (conda)",
   "language": "python",
   "name": "python3"
  },
  "language_info": {
   "codemirror_mode": {
    "name": "ipython",
    "version": 3
   },
   "file_extension": ".py",
   "mimetype": "text/x-python",
   "name": "python",
   "nbconvert_exporter": "python",
   "pygments_lexer": "ipython3",
   "version": "3.9.10"
  }
 },
 "nbformat": 4,
 "nbformat_minor": 2
}
