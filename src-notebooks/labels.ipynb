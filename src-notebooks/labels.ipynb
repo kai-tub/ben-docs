{
 "cells": [
  {
   "cell_type": "markdown",
   "metadata": {
    "tags": []
   },
   "source": [
    "# BigEarthNet Labels\n",
    "\n",
    "BigEarthNet used the [CORINE Land Cover database](https://land.copernicus.eu/pan-european/corine-land-cover) (CLC) of the year 2018 ([CLC2018](https://land.copernicus.eu/pan-european/corine-land-cover/clc2018)) to label 590'326 patches.\n",
    "The label information about these patches were overlayed with data from the Sentinel-1 and Sentinel-2 mission, to create the archives BigEarthnet-S1 and BigEarthNet-S2.\n",
    "BigEarthNet-S2 was the first published archive and used the _most specific_ version of the classification level of the CLC database, Level-3 with 43/44 classes present in the archive {cite}`BEN`.\n",
    "With the publication of the BigEarthNet-S1 archive, the recommended label nomenclature has been updated to use a 19-class nomenclature specifically designed for use in the machine-learning domain. {cite}`BEN19labels`.\n",
    "\n",
    ":::{important}\n",
    "- The original BigEarthNet-S2 archive used the CLC Level-3 specification, which defines 44 classes\n",
    "  - Of these 44-classes one class, `Glaciers and perpetual snow` is not present\n",
    "  - As a result the label-set is referred to as the 43-label nomenclature.\n",
    "- The 19-class label nomenclature was introduced, to better reflect the application in the machine learning domain\n",
    ":::\n"
   ]
  },
  {
   "cell_type": "code",
   "execution_count": 2,
   "metadata": {
    "tags": []
   },
   "outputs": [],
   "source": [
    "# remove-input\n",
    "import pandas as pd\n",
    "import bigearthnet_common.constants as ben_constants\n",
    "from myst_nb import glue\n",
    "\n",
    "\n",
    "def style_df(df, th_text_align=\"left\"):\n",
    "    return (\n",
    "        df.style\n",
    "        .set_properties(**{\"text-align\": \"left\"})\n",
    "        .set_table_styles([dict(selector=\"th\", props=[(\"text-align\", th_text_align)])])\n",
    "    )\n"
   ]
  },
  {
   "cell_type": "markdown",
   "metadata": {
    "tags": []
   },
   "source": [
    "## 43-class nomenclature\n"
   ]
  },
  {
   "cell_type": "code",
   "execution_count": 6,
   "metadata": {
    "tags": []
   },
   "outputs": [
    {
     "data": {
      "application/papermill.record/text/html": "<style type=\"text/css\">\n#T_00c66 th {\n  text-align: left;\n}\n#T_00c66_row0_col0, #T_00c66_row1_col0, #T_00c66_row2_col0, #T_00c66_row3_col0, #T_00c66_row4_col0, #T_00c66_row5_col0, #T_00c66_row6_col0, #T_00c66_row7_col0, #T_00c66_row8_col0, #T_00c66_row9_col0, #T_00c66_row10_col0, #T_00c66_row11_col0, #T_00c66_row12_col0, #T_00c66_row13_col0, #T_00c66_row14_col0, #T_00c66_row15_col0, #T_00c66_row16_col0, #T_00c66_row17_col0, #T_00c66_row18_col0, #T_00c66_row19_col0, #T_00c66_row20_col0, #T_00c66_row21_col0, #T_00c66_row22_col0, #T_00c66_row23_col0, #T_00c66_row24_col0, #T_00c66_row25_col0, #T_00c66_row26_col0, #T_00c66_row27_col0, #T_00c66_row28_col0, #T_00c66_row29_col0, #T_00c66_row30_col0, #T_00c66_row31_col0, #T_00c66_row32_col0, #T_00c66_row33_col0, #T_00c66_row34_col0, #T_00c66_row35_col0, #T_00c66_row36_col0, #T_00c66_row37_col0, #T_00c66_row38_col0, #T_00c66_row39_col0, #T_00c66_row40_col0, #T_00c66_row41_col0, #T_00c66_row42_col0, #T_00c66_row43_col0 {\n  text-align: left;\n}\n</style>\n<table id=\"T_00c66\">\n  <thead>\n    <tr>\n      <th class=\"index_name level0\" >CLC_LVL1</th>\n      <th class=\"index_name level1\" >CLC_LVL2</th>\n      <th class=\"index_name level2\" >CLC_LVL3</th>\n      <th class=\"blank col0\" >&nbsp;</th>\n    </tr>\n  </thead>\n  <tbody>\n    <tr>\n      <th id=\"T_00c66_level0_row0\" class=\"row_heading level0 row0\" rowspan=\"11\">Agricultural areas</th>\n      <th id=\"T_00c66_level1_row0\" class=\"row_heading level1 row0\" rowspan=\"3\">Arable land</th>\n      <th id=\"T_00c66_level2_row0\" class=\"row_heading level2 row0\" >Non-irrigated arable land</th>\n      <td id=\"T_00c66_row0_col0\" class=\"data row0 col0\" >11</td>\n    </tr>\n    <tr>\n      <th id=\"T_00c66_level2_row1\" class=\"row_heading level2 row1\" >Permanently irrigated land</th>\n      <td id=\"T_00c66_row1_col0\" class=\"data row1 col0\" >12</td>\n    </tr>\n    <tr>\n      <th id=\"T_00c66_level2_row2\" class=\"row_heading level2 row2\" >Rice fields</th>\n      <td id=\"T_00c66_row2_col0\" class=\"data row2 col0\" >13</td>\n    </tr>\n    <tr>\n      <th id=\"T_00c66_level1_row3\" class=\"row_heading level1 row3\" rowspan=\"4\">Heterogeneous agricultural areas</th>\n      <th id=\"T_00c66_level2_row3\" class=\"row_heading level2 row3\" >Agro-forestry areas</th>\n      <td id=\"T_00c66_row3_col0\" class=\"data row3 col0\" >21</td>\n    </tr>\n    <tr>\n      <th id=\"T_00c66_level2_row4\" class=\"row_heading level2 row4\" >Annual crops associated with permanent crops</th>\n      <td id=\"T_00c66_row4_col0\" class=\"data row4 col0\" >18</td>\n    </tr>\n    <tr>\n      <th id=\"T_00c66_level2_row5\" class=\"row_heading level2 row5\" >Complex cultivation patterns</th>\n      <td id=\"T_00c66_row5_col0\" class=\"data row5 col0\" >19</td>\n    </tr>\n    <tr>\n      <th id=\"T_00c66_level2_row6\" class=\"row_heading level2 row6\" >Land principally occupied by agriculture, with significant areas of natural vegetation</th>\n      <td id=\"T_00c66_row6_col0\" class=\"data row6 col0\" >20</td>\n    </tr>\n    <tr>\n      <th id=\"T_00c66_level1_row7\" class=\"row_heading level1 row7\" >Pastures</th>\n      <th id=\"T_00c66_level2_row7\" class=\"row_heading level2 row7\" >Pastures</th>\n      <td id=\"T_00c66_row7_col0\" class=\"data row7 col0\" >17</td>\n    </tr>\n    <tr>\n      <th id=\"T_00c66_level1_row8\" class=\"row_heading level1 row8\" rowspan=\"3\">Permanent crops</th>\n      <th id=\"T_00c66_level2_row8\" class=\"row_heading level2 row8\" >Fruit trees and berry plantations</th>\n      <td id=\"T_00c66_row8_col0\" class=\"data row8 col0\" >15</td>\n    </tr>\n    <tr>\n      <th id=\"T_00c66_level2_row9\" class=\"row_heading level2 row9\" >Olive groves</th>\n      <td id=\"T_00c66_row9_col0\" class=\"data row9 col0\" >16</td>\n    </tr>\n    <tr>\n      <th id=\"T_00c66_level2_row10\" class=\"row_heading level2 row10\" >Vineyards</th>\n      <td id=\"T_00c66_row10_col0\" class=\"data row10 col0\" >14</td>\n    </tr>\n    <tr>\n      <th id=\"T_00c66_level0_row11\" class=\"row_heading level0 row11\" rowspan=\"11\">Artificial Surfaces</th>\n      <th id=\"T_00c66_level1_row11\" class=\"row_heading level1 row11\" rowspan=\"2\">Artificial, non-agricultural vegetated areas</th>\n      <th id=\"T_00c66_level2_row11\" class=\"row_heading level2 row11\" >Green urban areas</th>\n      <td id=\"T_00c66_row11_col0\" class=\"data row11 col0\" >9</td>\n    </tr>\n    <tr>\n      <th id=\"T_00c66_level2_row12\" class=\"row_heading level2 row12\" >Sport and leisure facilities</th>\n      <td id=\"T_00c66_row12_col0\" class=\"data row12 col0\" >10</td>\n    </tr>\n    <tr>\n      <th id=\"T_00c66_level1_row13\" class=\"row_heading level1 row13\" rowspan=\"4\">Industrial, comercial and transport units</th>\n      <th id=\"T_00c66_level2_row13\" class=\"row_heading level2 row13\" >Airports</th>\n      <td id=\"T_00c66_row13_col0\" class=\"data row13 col0\" >5</td>\n    </tr>\n    <tr>\n      <th id=\"T_00c66_level2_row14\" class=\"row_heading level2 row14\" >Industrial or commercial units</th>\n      <td id=\"T_00c66_row14_col0\" class=\"data row14 col0\" >2</td>\n    </tr>\n    <tr>\n      <th id=\"T_00c66_level2_row15\" class=\"row_heading level2 row15\" >Port areas</th>\n      <td id=\"T_00c66_row15_col0\" class=\"data row15 col0\" >4</td>\n    </tr>\n    <tr>\n      <th id=\"T_00c66_level2_row16\" class=\"row_heading level2 row16\" >Road and rail networks and associated land</th>\n      <td id=\"T_00c66_row16_col0\" class=\"data row16 col0\" >3</td>\n    </tr>\n    <tr>\n      <th id=\"T_00c66_level1_row17\" class=\"row_heading level1 row17\" rowspan=\"3\">Mine, dump and construction sites</th>\n      <th id=\"T_00c66_level2_row17\" class=\"row_heading level2 row17\" >Construction sites</th>\n      <td id=\"T_00c66_row17_col0\" class=\"data row17 col0\" >8</td>\n    </tr>\n    <tr>\n      <th id=\"T_00c66_level2_row18\" class=\"row_heading level2 row18\" >Dump sites</th>\n      <td id=\"T_00c66_row18_col0\" class=\"data row18 col0\" >7</td>\n    </tr>\n    <tr>\n      <th id=\"T_00c66_level2_row19\" class=\"row_heading level2 row19\" >Mineral extraction sites</th>\n      <td id=\"T_00c66_row19_col0\" class=\"data row19 col0\" >6</td>\n    </tr>\n    <tr>\n      <th id=\"T_00c66_level1_row20\" class=\"row_heading level1 row20\" rowspan=\"2\">Urban fabric</th>\n      <th id=\"T_00c66_level2_row20\" class=\"row_heading level2 row20\" >Continuous urban fabric</th>\n      <td id=\"T_00c66_row20_col0\" class=\"data row20 col0\" >0</td>\n    </tr>\n    <tr>\n      <th id=\"T_00c66_level2_row21\" class=\"row_heading level2 row21\" >Discontinuous urban fabric</th>\n      <td id=\"T_00c66_row21_col0\" class=\"data row21 col0\" >1</td>\n    </tr>\n    <tr>\n      <th id=\"T_00c66_level0_row22\" class=\"row_heading level0 row22\" rowspan=\"12\">Forest and seminatural areas</th>\n      <th id=\"T_00c66_level1_row22\" class=\"row_heading level1 row22\" rowspan=\"3\">Forest</th>\n      <th id=\"T_00c66_level2_row22\" class=\"row_heading level2 row22\" >Broad-leaved forest</th>\n      <td id=\"T_00c66_row22_col0\" class=\"data row22 col0\" >22</td>\n    </tr>\n    <tr>\n      <th id=\"T_00c66_level2_row23\" class=\"row_heading level2 row23\" >Coniferous forest</th>\n      <td id=\"T_00c66_row23_col0\" class=\"data row23 col0\" >23</td>\n    </tr>\n    <tr>\n      <th id=\"T_00c66_level2_row24\" class=\"row_heading level2 row24\" >Mixed forest</th>\n      <td id=\"T_00c66_row24_col0\" class=\"data row24 col0\" >24</td>\n    </tr>\n    <tr>\n      <th id=\"T_00c66_level1_row25\" class=\"row_heading level1 row25\" rowspan=\"5\">Open spaces with little or no vegetation</th>\n      <th id=\"T_00c66_level2_row25\" class=\"row_heading level2 row25\" >Bare rock</th>\n      <td id=\"T_00c66_row25_col0\" class=\"data row25 col0\" >30</td>\n    </tr>\n    <tr>\n      <th id=\"T_00c66_level2_row26\" class=\"row_heading level2 row26\" >Beaches, dunes, sands</th>\n      <td id=\"T_00c66_row26_col0\" class=\"data row26 col0\" >29</td>\n    </tr>\n    <tr>\n      <th id=\"T_00c66_level2_row27\" class=\"row_heading level2 row27\" >Burnt areas</th>\n      <td id=\"T_00c66_row27_col0\" class=\"data row27 col0\" >32</td>\n    </tr>\n    <tr>\n      <th id=\"T_00c66_level2_row28\" class=\"row_heading level2 row28\" >Glaciers and perpetual snow</th>\n      <td id=\"T_00c66_row28_col0\" class=\"data row28 col0\" >33</td>\n    </tr>\n    <tr>\n      <th id=\"T_00c66_level2_row29\" class=\"row_heading level2 row29\" >Sparsely vegetated areas</th>\n      <td id=\"T_00c66_row29_col0\" class=\"data row29 col0\" >31</td>\n    </tr>\n    <tr>\n      <th id=\"T_00c66_level1_row30\" class=\"row_heading level1 row30\" rowspan=\"4\">Shrub and/or herbaceous vegetation associations</th>\n      <th id=\"T_00c66_level2_row30\" class=\"row_heading level2 row30\" >Moors and heathland</th>\n      <td id=\"T_00c66_row30_col0\" class=\"data row30 col0\" >26</td>\n    </tr>\n    <tr>\n      <th id=\"T_00c66_level2_row31\" class=\"row_heading level2 row31\" >Natural grassland</th>\n      <td id=\"T_00c66_row31_col0\" class=\"data row31 col0\" >25</td>\n    </tr>\n    <tr>\n      <th id=\"T_00c66_level2_row32\" class=\"row_heading level2 row32\" >Sclerophyllous vegetation</th>\n      <td id=\"T_00c66_row32_col0\" class=\"data row32 col0\" >27</td>\n    </tr>\n    <tr>\n      <th id=\"T_00c66_level2_row33\" class=\"row_heading level2 row33\" >Transitional woodland/shrub</th>\n      <td id=\"T_00c66_row33_col0\" class=\"data row33 col0\" >28</td>\n    </tr>\n    <tr>\n      <th id=\"T_00c66_level0_row34\" class=\"row_heading level0 row34\" rowspan=\"5\">Water bodies</th>\n      <th id=\"T_00c66_level1_row34\" class=\"row_heading level1 row34\" rowspan=\"2\">Inland waters</th>\n      <th id=\"T_00c66_level2_row34\" class=\"row_heading level2 row34\" >Water bodies</th>\n      <td id=\"T_00c66_row34_col0\" class=\"data row34 col0\" >40</td>\n    </tr>\n    <tr>\n      <th id=\"T_00c66_level2_row35\" class=\"row_heading level2 row35\" >Water courses</th>\n      <td id=\"T_00c66_row35_col0\" class=\"data row35 col0\" >39</td>\n    </tr>\n    <tr>\n      <th id=\"T_00c66_level1_row36\" class=\"row_heading level1 row36\" rowspan=\"3\">Marine waters</th>\n      <th id=\"T_00c66_level2_row36\" class=\"row_heading level2 row36\" >Coastal lagoons</th>\n      <td id=\"T_00c66_row36_col0\" class=\"data row36 col0\" >41</td>\n    </tr>\n    <tr>\n      <th id=\"T_00c66_level2_row37\" class=\"row_heading level2 row37\" >Estuaries</th>\n      <td id=\"T_00c66_row37_col0\" class=\"data row37 col0\" >42</td>\n    </tr>\n    <tr>\n      <th id=\"T_00c66_level2_row38\" class=\"row_heading level2 row38\" >Sea and ocean</th>\n      <td id=\"T_00c66_row38_col0\" class=\"data row38 col0\" >43</td>\n    </tr>\n    <tr>\n      <th id=\"T_00c66_level0_row39\" class=\"row_heading level0 row39\" rowspan=\"5\">Wetlands</th>\n      <th id=\"T_00c66_level1_row39\" class=\"row_heading level1 row39\" rowspan=\"3\">Coastal wetlands</th>\n      <th id=\"T_00c66_level2_row39\" class=\"row_heading level2 row39\" >Intertidal flats</th>\n      <td id=\"T_00c66_row39_col0\" class=\"data row39 col0\" >38</td>\n    </tr>\n    <tr>\n      <th id=\"T_00c66_level2_row40\" class=\"row_heading level2 row40\" >Salines</th>\n      <td id=\"T_00c66_row40_col0\" class=\"data row40 col0\" >37</td>\n    </tr>\n    <tr>\n      <th id=\"T_00c66_level2_row41\" class=\"row_heading level2 row41\" >Salt marshes</th>\n      <td id=\"T_00c66_row41_col0\" class=\"data row41 col0\" >36</td>\n    </tr>\n    <tr>\n      <th id=\"T_00c66_level1_row42\" class=\"row_heading level1 row42\" rowspan=\"2\">Inland wetlands</th>\n      <th id=\"T_00c66_level2_row42\" class=\"row_heading level2 row42\" >Inland marshes</th>\n      <td id=\"T_00c66_row42_col0\" class=\"data row42 col0\" >34</td>\n    </tr>\n    <tr>\n      <th id=\"T_00c66_level2_row43\" class=\"row_heading level2 row43\" >Peatbogs</th>\n      <td id=\"T_00c66_row43_col0\" class=\"data row43 col0\" >35</td>\n    </tr>\n  </tbody>\n</table>\n",
      "application/papermill.record/text/plain": "<pandas.io.formats.style.Styler at 0x7f302f8726d0>"
     },
     "metadata": {
      "scrapbook": {
       "mime_prefix": "application/papermill.record/",
       "name": "clc-table"
      }
     },
     "output_type": "display_data"
    }
   ],
   "source": [
    "# remove-input\n",
    "df1 = pd.DataFrame.from_dict(\n",
    "    ben_constants.CLC_LV3_TO_LV2, orient=\"index\", columns=[\"CLC_LVL2\"]\n",
    ")\n",
    "df2 = pd.DataFrame.from_dict(\n",
    "    ben_constants.CLC_LV3_TO_LV1, orient=\"index\", columns=[\"CLC_LVL1\"]\n",
    ")\n",
    "df = df1.join(df2).rename_axis(\"CLC_LVL3\").reset_index()\n",
    "# require dummy index to apply styling functions, as the Style'r assumes more than only index columns\n",
    "df = df.reset_index()\n",
    "df = df.set_index([\"CLC_LVL1\", \"CLC_LVL2\", \"CLC_LVL3\"]).sort_index(level=[0, 1])\n",
    "clc_styler = style_df(df).hide(axis=\"columns\")\n",
    "\n",
    "glue(\"clc-table\", clc_styler, display=False)"
   ]
  },
  {
   "cell_type": "markdown",
   "metadata": {
    "tags": []
   },
   "source": [
    "The CORINE (Coordination of Information on the Environment) Land Cover project is a nomenclature used to describe physical material at the surface of the earth.\n",
    "The CLC project was created to have a standardized classification schema for annotating remote imagery in multiple countries of the European Union.\n",
    "\n",
    "The CLC class nomenclature is defined as a 3-level deep hierarchy with:\n",
    "- 5 classes in level 1\n",
    "- 15 classes in level 2\n",
    "- 44 classes in level 3\n",
    "\n",
    "The following box shows the label hierarchy in a tabular form.\n",
    "More in-depth information about the CLC2018 nomenclature, including example images for each level-3 label, can be reviewed on the [Corine-Land-Cover-Nomenclature-Guidelines](https://land.copernicus.eu/user-corner/technical-library/corine-land-cover-nomenclature-guidelines/html/index.html) site.\n",
    "\n",
    ":::{dropdown} CLC Hierarchy\n",
    ":::{glue:} clc-table\n",
    ":::\n"
   ]
  },
  {
   "cell_type": "markdown",
   "metadata": {
    "tags": []
   },
   "source": [
    "## 19-class nomenclature\n"
   ]
  },
  {
   "cell_type": "code",
   "execution_count": 8,
   "metadata": {
    "tags": []
   },
   "outputs": [
    {
     "data": {
      "application/papermill.record/text/html": "<style type=\"text/css\">\n#T_5b562 th {\n  text-align: left;\n}\n#T_5b562_row0_col0, #T_5b562_row0_col1, #T_5b562_row1_col0, #T_5b562_row1_col1, #T_5b562_row2_col0, #T_5b562_row2_col1, #T_5b562_row3_col0, #T_5b562_row3_col1, #T_5b562_row4_col0, #T_5b562_row4_col1, #T_5b562_row5_col0, #T_5b562_row5_col1, #T_5b562_row6_col0, #T_5b562_row6_col1, #T_5b562_row7_col0, #T_5b562_row7_col1, #T_5b562_row8_col0, #T_5b562_row8_col1, #T_5b562_row9_col0, #T_5b562_row9_col1, #T_5b562_row10_col0, #T_5b562_row10_col1, #T_5b562_row11_col0, #T_5b562_row11_col1, #T_5b562_row12_col0, #T_5b562_row12_col1, #T_5b562_row13_col0, #T_5b562_row13_col1, #T_5b562_row14_col0, #T_5b562_row14_col1, #T_5b562_row15_col0, #T_5b562_row15_col1, #T_5b562_row16_col0, #T_5b562_row16_col1, #T_5b562_row17_col0, #T_5b562_row17_col1, #T_5b562_row18_col0, #T_5b562_row18_col1, #T_5b562_row19_col0, #T_5b562_row19_col1, #T_5b562_row20_col0, #T_5b562_row20_col1, #T_5b562_row21_col0, #T_5b562_row21_col1, #T_5b562_row22_col0, #T_5b562_row22_col1, #T_5b562_row23_col0, #T_5b562_row23_col1, #T_5b562_row24_col0, #T_5b562_row24_col1, #T_5b562_row25_col0, #T_5b562_row25_col1, #T_5b562_row26_col0, #T_5b562_row26_col1, #T_5b562_row27_col0, #T_5b562_row27_col1, #T_5b562_row28_col0, #T_5b562_row28_col1, #T_5b562_row29_col0, #T_5b562_row29_col1, #T_5b562_row30_col0, #T_5b562_row30_col1, #T_5b562_row31_col0, #T_5b562_row31_col1, #T_5b562_row32_col0, #T_5b562_row33_col0, #T_5b562_row34_col0, #T_5b562_row35_col0, #T_5b562_row36_col0, #T_5b562_row37_col0, #T_5b562_row38_col0, #T_5b562_row39_col0, #T_5b562_row40_col0, #T_5b562_row41_col0, #T_5b562_row42_col0 {\n  text-align: left;\n}\n#T_5b562_row32_col1, #T_5b562_row33_col1, #T_5b562_row34_col1, #T_5b562_row35_col1, #T_5b562_row36_col1, #T_5b562_row37_col1, #T_5b562_row38_col1, #T_5b562_row39_col1, #T_5b562_row40_col1, #T_5b562_row41_col1, #T_5b562_row42_col1 {\n  text-align: left;\n  color: red;\n}\n</style>\n<table id=\"T_5b562\">\n  <thead>\n    <tr>\n      <th id=\"T_5b562_level0_col0\" class=\"col_heading level0 col0\" >Original 43-class label</th>\n      <th id=\"T_5b562_level0_col1\" class=\"col_heading level0 col1\" >Updated 19-class label</th>\n    </tr>\n  </thead>\n  <tbody>\n    <tr>\n      <td id=\"T_5b562_row0_col0\" class=\"data row0 col0\" >Continuous urban fabric</td>\n      <td id=\"T_5b562_row0_col1\" class=\"data row0 col1\" >Urban fabric</td>\n    </tr>\n    <tr>\n      <td id=\"T_5b562_row1_col0\" class=\"data row1 col0\" >Discontinuous urban fabric</td>\n      <td id=\"T_5b562_row1_col1\" class=\"data row1 col1\" >Urban fabric</td>\n    </tr>\n    <tr>\n      <td id=\"T_5b562_row2_col0\" class=\"data row2 col0\" >Industrial or commercial units</td>\n      <td id=\"T_5b562_row2_col1\" class=\"data row2 col1\" >Industrial or commercial units</td>\n    </tr>\n    <tr>\n      <td id=\"T_5b562_row3_col0\" class=\"data row3 col0\" >Non-irrigated arable land</td>\n      <td id=\"T_5b562_row3_col1\" class=\"data row3 col1\" >Arable land</td>\n    </tr>\n    <tr>\n      <td id=\"T_5b562_row4_col0\" class=\"data row4 col0\" >Permanently irrigated land</td>\n      <td id=\"T_5b562_row4_col1\" class=\"data row4 col1\" >Arable land</td>\n    </tr>\n    <tr>\n      <td id=\"T_5b562_row5_col0\" class=\"data row5 col0\" >Rice fields</td>\n      <td id=\"T_5b562_row5_col1\" class=\"data row5 col1\" >Arable land</td>\n    </tr>\n    <tr>\n      <td id=\"T_5b562_row6_col0\" class=\"data row6 col0\" >Vineyards</td>\n      <td id=\"T_5b562_row6_col1\" class=\"data row6 col1\" >Permanent crops</td>\n    </tr>\n    <tr>\n      <td id=\"T_5b562_row7_col0\" class=\"data row7 col0\" >Fruit trees and berry plantations</td>\n      <td id=\"T_5b562_row7_col1\" class=\"data row7 col1\" >Permanent crops</td>\n    </tr>\n    <tr>\n      <td id=\"T_5b562_row8_col0\" class=\"data row8 col0\" >Olive groves</td>\n      <td id=\"T_5b562_row8_col1\" class=\"data row8 col1\" >Permanent crops</td>\n    </tr>\n    <tr>\n      <td id=\"T_5b562_row9_col0\" class=\"data row9 col0\" >Annual crops associated with permanent crops</td>\n      <td id=\"T_5b562_row9_col1\" class=\"data row9 col1\" >Permanent crops</td>\n    </tr>\n    <tr>\n      <td id=\"T_5b562_row10_col0\" class=\"data row10 col0\" >Pastures</td>\n      <td id=\"T_5b562_row10_col1\" class=\"data row10 col1\" >Pastures</td>\n    </tr>\n    <tr>\n      <td id=\"T_5b562_row11_col0\" class=\"data row11 col0\" >Complex cultivation patterns</td>\n      <td id=\"T_5b562_row11_col1\" class=\"data row11 col1\" >Complex cultivation patterns</td>\n    </tr>\n    <tr>\n      <td id=\"T_5b562_row12_col0\" class=\"data row12 col0\" >Land principally occupied by agriculture, with significant areas of natural vegetation</td>\n      <td id=\"T_5b562_row12_col1\" class=\"data row12 col1\" >Land principally occupied by agriculture, with significant areas of natural vegetation</td>\n    </tr>\n    <tr>\n      <td id=\"T_5b562_row13_col0\" class=\"data row13 col0\" >Agro-forestry areas</td>\n      <td id=\"T_5b562_row13_col1\" class=\"data row13 col1\" >Agro-forestry areas</td>\n    </tr>\n    <tr>\n      <td id=\"T_5b562_row14_col0\" class=\"data row14 col0\" >Broad-leaved forest</td>\n      <td id=\"T_5b562_row14_col1\" class=\"data row14 col1\" >Broad-leaved forest</td>\n    </tr>\n    <tr>\n      <td id=\"T_5b562_row15_col0\" class=\"data row15 col0\" >Coniferous forest</td>\n      <td id=\"T_5b562_row15_col1\" class=\"data row15 col1\" >Coniferous forest</td>\n    </tr>\n    <tr>\n      <td id=\"T_5b562_row16_col0\" class=\"data row16 col0\" >Mixed forest</td>\n      <td id=\"T_5b562_row16_col1\" class=\"data row16 col1\" >Mixed forest</td>\n    </tr>\n    <tr>\n      <td id=\"T_5b562_row17_col0\" class=\"data row17 col0\" >Natural grassland</td>\n      <td id=\"T_5b562_row17_col1\" class=\"data row17 col1\" >Natural grassland and sparsely vegetated areas</td>\n    </tr>\n    <tr>\n      <td id=\"T_5b562_row18_col0\" class=\"data row18 col0\" >Sparsely vegetated areas</td>\n      <td id=\"T_5b562_row18_col1\" class=\"data row18 col1\" >Natural grassland and sparsely vegetated areas</td>\n    </tr>\n    <tr>\n      <td id=\"T_5b562_row19_col0\" class=\"data row19 col0\" >Moors and heathland</td>\n      <td id=\"T_5b562_row19_col1\" class=\"data row19 col1\" >Moors, heathland and sclerophyllous vegetation</td>\n    </tr>\n    <tr>\n      <td id=\"T_5b562_row20_col0\" class=\"data row20 col0\" >Sclerophyllous vegetation</td>\n      <td id=\"T_5b562_row20_col1\" class=\"data row20 col1\" >Moors, heathland and sclerophyllous vegetation</td>\n    </tr>\n    <tr>\n      <td id=\"T_5b562_row21_col0\" class=\"data row21 col0\" >Transitional woodland/shrub</td>\n      <td id=\"T_5b562_row21_col1\" class=\"data row21 col1\" >Transitional woodland, shrub</td>\n    </tr>\n    <tr>\n      <td id=\"T_5b562_row22_col0\" class=\"data row22 col0\" >Beaches, dunes, sands</td>\n      <td id=\"T_5b562_row22_col1\" class=\"data row22 col1\" >Beaches, dunes, sands</td>\n    </tr>\n    <tr>\n      <td id=\"T_5b562_row23_col0\" class=\"data row23 col0\" >Inland marshes</td>\n      <td id=\"T_5b562_row23_col1\" class=\"data row23 col1\" >Inland wetlands</td>\n    </tr>\n    <tr>\n      <td id=\"T_5b562_row24_col0\" class=\"data row24 col0\" >Peatbogs</td>\n      <td id=\"T_5b562_row24_col1\" class=\"data row24 col1\" >Inland wetlands</td>\n    </tr>\n    <tr>\n      <td id=\"T_5b562_row25_col0\" class=\"data row25 col0\" >Salt marshes</td>\n      <td id=\"T_5b562_row25_col1\" class=\"data row25 col1\" >Coastal wetlands</td>\n    </tr>\n    <tr>\n      <td id=\"T_5b562_row26_col0\" class=\"data row26 col0\" >Salines</td>\n      <td id=\"T_5b562_row26_col1\" class=\"data row26 col1\" >Coastal wetlands</td>\n    </tr>\n    <tr>\n      <td id=\"T_5b562_row27_col0\" class=\"data row27 col0\" >Water courses</td>\n      <td id=\"T_5b562_row27_col1\" class=\"data row27 col1\" >Inland waters</td>\n    </tr>\n    <tr>\n      <td id=\"T_5b562_row28_col0\" class=\"data row28 col0\" >Water bodies</td>\n      <td id=\"T_5b562_row28_col1\" class=\"data row28 col1\" >Inland waters</td>\n    </tr>\n    <tr>\n      <td id=\"T_5b562_row29_col0\" class=\"data row29 col0\" >Coastal lagoons</td>\n      <td id=\"T_5b562_row29_col1\" class=\"data row29 col1\" >Marine waters</td>\n    </tr>\n    <tr>\n      <td id=\"T_5b562_row30_col0\" class=\"data row30 col0\" >Estuaries</td>\n      <td id=\"T_5b562_row30_col1\" class=\"data row30 col1\" >Marine waters</td>\n    </tr>\n    <tr>\n      <td id=\"T_5b562_row31_col0\" class=\"data row31 col0\" >Sea and ocean</td>\n      <td id=\"T_5b562_row31_col1\" class=\"data row31 col1\" >Marine waters</td>\n    </tr>\n    <tr>\n      <td id=\"T_5b562_row32_col0\" class=\"data row32 col0\" >Airports</td>\n      <td id=\"T_5b562_row32_col1\" class=\"data row32 col1\" >REMOVED</td>\n    </tr>\n    <tr>\n      <td id=\"T_5b562_row33_col0\" class=\"data row33 col0\" >Bare rock</td>\n      <td id=\"T_5b562_row33_col1\" class=\"data row33 col1\" >REMOVED</td>\n    </tr>\n    <tr>\n      <td id=\"T_5b562_row34_col0\" class=\"data row34 col0\" >Dump sites</td>\n      <td id=\"T_5b562_row34_col1\" class=\"data row34 col1\" >REMOVED</td>\n    </tr>\n    <tr>\n      <td id=\"T_5b562_row35_col0\" class=\"data row35 col0\" >Port areas</td>\n      <td id=\"T_5b562_row35_col1\" class=\"data row35 col1\" >REMOVED</td>\n    </tr>\n    <tr>\n      <td id=\"T_5b562_row36_col0\" class=\"data row36 col0\" >Road and rail networks and associated land</td>\n      <td id=\"T_5b562_row36_col1\" class=\"data row36 col1\" >REMOVED</td>\n    </tr>\n    <tr>\n      <td id=\"T_5b562_row37_col0\" class=\"data row37 col0\" >Mineral extraction sites</td>\n      <td id=\"T_5b562_row37_col1\" class=\"data row37 col1\" >REMOVED</td>\n    </tr>\n    <tr>\n      <td id=\"T_5b562_row38_col0\" class=\"data row38 col0\" >Construction sites</td>\n      <td id=\"T_5b562_row38_col1\" class=\"data row38 col1\" >REMOVED</td>\n    </tr>\n    <tr>\n      <td id=\"T_5b562_row39_col0\" class=\"data row39 col0\" >Sport and leisure facilities</td>\n      <td id=\"T_5b562_row39_col1\" class=\"data row39 col1\" >REMOVED</td>\n    </tr>\n    <tr>\n      <td id=\"T_5b562_row40_col0\" class=\"data row40 col0\" >Burnt areas</td>\n      <td id=\"T_5b562_row40_col1\" class=\"data row40 col1\" >REMOVED</td>\n    </tr>\n    <tr>\n      <td id=\"T_5b562_row41_col0\" class=\"data row41 col0\" >Intertidal flats</td>\n      <td id=\"T_5b562_row41_col1\" class=\"data row41 col1\" >REMOVED</td>\n    </tr>\n    <tr>\n      <td id=\"T_5b562_row42_col0\" class=\"data row42 col0\" >Green urban areas</td>\n      <td id=\"T_5b562_row42_col1\" class=\"data row42 col1\" >REMOVED</td>\n    </tr>\n  </tbody>\n</table>\n",
      "application/papermill.record/text/plain": "<pandas.io.formats.style.Styler at 0x7f302f7ee0a0>"
     },
     "metadata": {
      "scrapbook": {
       "mime_prefix": "application/papermill.record/",
       "name": "old2new-labels-table"
      }
     },
     "output_type": "display_data"
    }
   ],
   "source": [
    "# remove-input\n",
    "def style_none(val, props=\"\"):\n",
    "    return props if val is None else None\n",
    "\n",
    "\n",
    "old2new = (\n",
    "    pd.DataFrame.from_dict(\n",
    "        ben_constants.OLD2NEW_LABELS_DICT,\n",
    "        orient=\"index\",\n",
    "        columns=[\"Updated 19-class label\"],\n",
    "    )\n",
    "    .rename_axis(\"Original 43-class label\")\n",
    "    .reset_index()\n",
    ")\n",
    "\n",
    "styler = style_df(old2new)\n",
    "\n",
    "styler = (\n",
    "    styler.hide(axis=\"index\")\n",
    "    .applymap(style_none, props=\"color:red\")\n",
    "    .format(na_rep=\"REMOVED\")\n",
    ")\n",
    "\n",
    "glue(\"old2new-labels-table\", styler, display=False)\n"
   ]
  },
  {
   "cell_type": "markdown",
   "metadata": {
    "tags": []
   },
   "source": [
    "The 19-class nomenclature has combined and dropped classes from the 43-class variant for better use in machine learning.\n",
    "More specifically, ten classes of the original CLC nomenclature are maintained in the new nomenclature, 22 classes are grouped into 9 new classes, and 11 classes have been removed.\n",
    "Classes that strongly depend on land use or require additional data for their discrimination were removed.\n",
    "\n",
    "The change was necessary because there are some CLC classes that are difficult to be identified by only exploiting (single-date) Sentinel-2 images, because:\n",
    "- Land use concepts associated with some classes may not be visible from space or fully recognizable with the spatial resolution of Sentinel-2 images, such as:\n",
    "    - Dump sites, Sport, and leisure facilities\n",
    "-  RS time series, which BigEarthNet does not include, may be required to describe and discriminate some classes , such as:\n",
    "   -  Non-irrigated arable land, or permanently irrigated land\n",
    "\n",
    "The following table displays the exact the mapping from the old to the new class nomenclature.\n",
    ":::{dropdown} 43-class to 19-class label nomenclature\n",
    ":::{glue:} old2new-labels-table\n",
    ":::\n",
    "\n",
    ":::{important}\n",
    "11 classes were dropped from the original 43-class nomenclature.\n",
    "As a result, there are 57 patches of the original BigEarthNet archive that have **no** target labels.\n",
    "These patches should be dropped in experiments to remain compatible with the new nomenclature.\n",
    ":::"
   ]
  },
  {
   "cell_type": "code",
   "execution_count": null,
   "metadata": {
    "tags": []
   },
   "outputs": [],
   "source": []
  }
 ],
 "metadata": {
  "interpreter": {
   "hash": "9fbcd340db4d1de69ccb1b0ecf2cffb486d7d9a87b0a3b70097ab105e363a3c7"
  },
  "kernelspec": {
   "display_name": "Python 3 (ipykernel)",
   "language": "python",
   "name": "python3"
  },
  "language_info": {
   "codemirror_mode": {
    "name": "ipython",
    "version": 3
   },
   "file_extension": ".py",
   "mimetype": "text/x-python",
   "name": "python",
   "nbconvert_exporter": "python",
   "pygments_lexer": "ipython3",
   "version": "3.9.10"
  }
 },
 "nbformat": 4,
 "nbformat_minor": 4
}
