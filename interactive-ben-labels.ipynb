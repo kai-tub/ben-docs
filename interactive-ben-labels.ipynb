{
 "cells": [
  {
   "cell_type": "markdown",
   "metadata": {
    "tags": []
   },
   "source": [
    "# Interactive label distribution"
   ]
  },
  {
   "cell_type": "markdown",
   "metadata": {
    "tags": []
   },
   "source": [
    "### Common issues:\n",
    "- `gv.Point` errors out with complaining about index\n",
    "  - Probably one of the `vdims` is ill-defined\n",
    "    - maybe an entry contains a list of values\n",
    "- Caching of `gv.Point` class seems to perform quite bad\n",
    "  - Usually just as fast to reproject directly than caching and loading result\n",
    "    - spatialpandas: 26s without caching and spatialpandas\n",
    "    - spatialpandas: 1min15 sek to cache\n",
    "    - spatialandas: 2min to load from cache...\n",
    "- If you are working with geographic data using GeoViews that needs to be projected before display and/or before datashading, GeoViews will have to do this every time you update a plot, which can drown out the performance improvement you get by using Datashader. GeoViews allows you to project the entire dataset at once using gv.operation.project, and once you do this you should be able to use Datashader at full speed.\n",
    "- Not possible to do this via streamlit\n",
    "  - https://discuss.streamlit.io/t/plotting-holoviews-plot/215"
   ]
  },
  {
   "cell_type": "code",
   "execution_count": null,
   "metadata": {
    "tags": []
   },
   "outputs": [],
   "source": [
    "import warnings\n",
    "\n",
    "import cartopy.crs as ccrs\n",
    "import datashader\n",
    "import geopandas\n",
    "import geoviews as gv\n",
    "import holoviews as hv\n",
    "import panel\n",
    "import param\n",
    "import spatialpandas\n",
    "from holoviews.operation.datashader import datashade, dynspread\n",
    "from shapely.errors import ShapelyDeprecationWarning\n",
    "from natsort import natsorted\n",
    "\n",
    "warnings.filterwarnings(\"ignore\", category=ShapelyDeprecationWarning)\n",
    "\n",
    "gdf = geopandas.read_parquet(\"gdf/final_ben.parquet\")\n",
    "gdf.geometry = gdf.geometry.representative_point()\n",
    "gdf = spatialpandas.GeoDataFrame(gdf)\n",
    "gdf = gdf.explode(\"new_labels\")\n",
    "points = gv.Points(gdf, vdims=[\"new_labels\"])\n",
    "proj_points = gv.operation.project(points, projection=ccrs.GOOGLE_MERCATOR)\n",
    "new_lbls = gdf[\"new_labels\"].unique().tolist()\n",
    "lbl_options = [\"all\"] + natsorted(new_lbls)\n",
    "cmap_options = \"blue red orange black gray\".split()\n",
    "tile_sources = {name: ts for name, ts in gv.tile_sources.tile_sources.items()}\n",
    "\n",
    "\n",
    "class BenPanel(param.Parameterized):\n",
    "    label = param.ObjectSelector(lbl_options[0], lbl_options)\n",
    "    background = param.ObjectSelector(tile_sources[\"StamenTerrain\"], tile_sources)\n",
    "    cmap = \"blue\"\n",
    "    # cmap_ = param.ObjectSelector(cmap_options[0], cmap_options)\n",
    "\n",
    "    # @param.depends(\"cmap_\")\n",
    "    # def cmap(self):\n",
    "    #     return self.cmap_\n",
    "\n",
    "    @param.depends(\"label\")\n",
    "    def points(self):\n",
    "        points = (\n",
    "            proj_points\n",
    "            if self.label == \"all\"\n",
    "            else proj_points.select(new_labels=self.label)\n",
    "        )\n",
    "        return points\n",
    "\n",
    "    @param.depends(\"background\")\n",
    "    def background_tile(self):\n",
    "        return self.background\n",
    "\n",
    "    def view(self, **kwargs):\n",
    "        tile = hv.DynamicMap(self.background_tile)\n",
    "        points = hv.DynamicMap(self.points)\n",
    "        # cmap = hv.DynamicMap(self.cmap)\n",
    "        # use aggregator `any`, as I am not interested in the density\n",
    "        aggregator = datashader.any() if self.label == \"all\" else \"default\"\n",
    "        shader = dynspread(\n",
    "            datashade(points, cmap=self.cmap, aggregator=aggregator, precompute=True)\n",
    "        )\n",
    "        plot = tile * shader\n",
    "        return plot.opts(\n",
    "            width=800,\n",
    "            height=800,\n",
    "            toolbar=\"above\",\n",
    "            xaxis=None,\n",
    "            yaxis=None,\n",
    "            active_tools=[\"wheel_zoom\"],\n",
    "        )\n",
    "\n",
    "\n",
    "ben = BenPanel(name=\"BigEarthNet Panel\")\n",
    "ben_panel = panel.Column(ben.param, ben.view()).servable()\n",
    "#     ben_panel.save(\"interactive_ben.html\", embed=True, max_states=20)\n",
    "ben_panel"
   ]
  }
 ],
 "metadata": {
  "language_info": {
   "name": "python"
  }
 },
 "nbformat": 4,
 "nbformat_minor": 2
}
